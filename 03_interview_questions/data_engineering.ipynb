{
 "cells": [
  {
   "attachments": {},
   "cell_type": "markdown",
   "metadata": {},
   "source": [
    "### Regex search"
   ]
  },
  {
   "attachments": {},
   "cell_type": "markdown",
   "metadata": {},
   "source": [
    "You are given a string s representing an attendance record for a student where each character signifies whether the student was absent, late, or present on that day. The record only contains the following three characters:\n",
    "\n",
    "'A': Absent.\n",
    "'L': Late.\n",
    "'P': Present.\n",
    "The student is eligible for an attendance award if they meet both of the following criteria:\n",
    "\n",
    "The student was absent ('A') for strictly fewer than 2 days total.\n",
    "The student was never late ('L') for 3 or more consecutive days.\n",
    "Return true if the student is eligible for an attendance award, or false otherwise."
   ]
  },
  {
   "cell_type": "code",
   "execution_count": 18,
   "metadata": {},
   "outputs": [],
   "source": [
    "# solution\n",
    "class Solution:\n",
    "    # regex search\n",
    "    def checkRecord(self, s: str) -> bool:\n",
    "        import re\n",
    "        # 3 or more consecutive occurance of \"L\"\n",
    "        late_pattern = r\"(L{3,})\"\n",
    "        # occurance of \"A\"\n",
    "        absence_patter = r\"A\"\n",
    "        late_count = len(re.findall(late_pattern, s))\n",
    "        absence_count = len(re.findall(absence_patter, s))\n",
    "        if late_count == 0  and absence_count < 2:\n",
    "            return True\n",
    "\n",
    "        else:\n",
    "            return False\n",
    "\n",
    "    "
   ]
  },
  {
   "cell_type": "code",
   "execution_count": 13,
   "metadata": {},
   "outputs": [
    {
     "data": {
      "text/plain": [
       "False"
      ]
     },
     "execution_count": 13,
     "metadata": {},
     "output_type": "execute_result"
    }
   ],
   "source": [
    "solution = Solution()\n",
    "s = \"PPALLL\"\n",
    "solution.checkRecord(s)"
   ]
  },
  {
   "attachments": {},
   "cell_type": "markdown",
   "metadata": {},
   "source": [
    "### Linear search\n",
    "Returns the index of the target if found, else returns -1"
   ]
  },
  {
   "cell_type": "code",
   "execution_count": 11,
   "metadata": {},
   "outputs": [],
   "source": [
    "class Solution:\n",
    "    # regex search\n",
    "# binary search\n",
    "    def binary_search(self, nums: list[int], target: int) -> int:\n",
    "        left = 0\n",
    "        right = len(nums)-1\n",
    "\n",
    "        while left <= right:\n",
    "            mid = (left + right) // 2\n",
    "            \n",
    "            if nums[mid] == target:\n",
    "                return mid\n",
    "\n",
    "            elif nums[mid] < target:\n",
    "                left = mid + 1\n",
    "            \n",
    "            elif nums[mid] > target:\n",
    "                right = mid - 1\n",
    "        \n",
    "        # return -1 if target not found in nums\n",
    "        return -1\n",
    "\n",
    "    def linear_search(self, nums: list[int], target: int) -> int:\n",
    "        n = len(nums)\n",
    "        for i in range(n):\n",
    "            if nums[i] == target:\n",
    "                return i\n",
    "        return -1"
   ]
  },
  {
   "cell_type": "code",
   "execution_count": 12,
   "metadata": {},
   "outputs": [
    {
     "data": {
      "text/plain": [
       "4"
      ]
     },
     "execution_count": 12,
     "metadata": {},
     "output_type": "execute_result"
    }
   ],
   "source": [
    "nums = [-1,0,3,5,9,12]\n",
    "target = 9\n",
    "\n",
    "solution = Solution()\n",
    "solution.binary_search(nums, target)"
   ]
  },
  {
   "cell_type": "code",
   "execution_count": 13,
   "metadata": {},
   "outputs": [
    {
     "data": {
      "text/plain": [
       "4"
      ]
     },
     "execution_count": 13,
     "metadata": {},
     "output_type": "execute_result"
    }
   ],
   "source": [
    "solution.linear_search(nums, target)"
   ]
  },
  {
   "attachments": {},
   "cell_type": "markdown",
   "metadata": {},
   "source": [
    "### Selection sort\n",
    "##### Algorithm\n",
    "1. Given an unsorted array `unsorted`, create an empty array `sorted`\n",
    "2. For each item in `unsorted`, find the minimum value and move it to `sorted`\n",
    "3. Start with the first item in `unsorted` and mark it as the minimum value seen so far, then look at the second item and compare it with the first item. If the second item is smaller than the current minimum value, mark it as the new minimum.\n",
    "4. Continue until the end of the `unsorted` is reached\n",
    "5. Move the minimum to the `sorted` array\n",
    "6. Repeat steps 3-4 in the `unsorted` array until there's no more item left in `unsorted`"
   ]
  },
  {
   "cell_type": "code",
   "execution_count": 24,
   "metadata": {},
   "outputs": [],
   "source": [
    "def idx_to_min(values: list[int]):\n",
    "    min_idx = 0\n",
    "    for idx in range(1, len(values)):\n",
    "        if values[min_idx] > values[idx]:\n",
    "            min_idx = idx\n",
    "    return min_idx\n",
    "\n",
    "def selection_sort(unsorted_list: list[int]):\n",
    "    sorted_list = []\n",
    "    print(\"%-25s %-25s\" % (unsorted_list, sorted_list))\n",
    "    for i in range(len(unsorted_list)):\n",
    "        idx_to_move = idx_to_min(unsorted_list)\n",
    "        sorted_list.append(unsorted_list.pop(idx_to_move))\n",
    "        print(\"%-25s %-25s\" % (unsorted_list, sorted_list))\n",
    "\n",
    "    return sorted_list\n"
   ]
  },
  {
   "cell_type": "code",
   "execution_count": 27,
   "metadata": {},
   "outputs": [
    {
     "name": "stdout",
     "output_type": "stream",
     "text": [
      "[-1, 10, 7, 5, 15, 12]    []                       \n",
      "[10, 7, 5, 15, 12]        [-1]                     \n",
      "[10, 7, 15, 12]           [-1, 5]                  \n",
      "[10, 15, 12]              [-1, 5, 7]               \n",
      "[15, 12]                  [-1, 5, 7, 10]           \n",
      "[15]                      [-1, 5, 7, 10, 12]       \n",
      "[]                        [-1, 5, 7, 10, 12, 15]   \n"
     ]
    },
    {
     "data": {
      "text/plain": [
       "[-1, 5, 7, 10, 12, 15]"
      ]
     },
     "execution_count": 27,
     "metadata": {},
     "output_type": "execute_result"
    }
   ],
   "source": [
    "unsorted_list = [-1,10,7,5,15,12]\n",
    "\n",
    "# for i in selection_sort(unsorted_list):\n",
    "#     print(i)\n",
    "\n",
    "selection_sort(unsorted_list)"
   ]
  },
  {
   "attachments": {},
   "cell_type": "markdown",
   "metadata": {},
   "source": [
    "### Quick sort\n",
    "##### Algorithm\n",
    "1. Given an unsorted array `unsorted`, pick an item from the array and call it **pivot**\n",
    "2. Break the remaining `unsorted` array into two subarrays: `less_than_pivot` and `greater_than_pivot` the **pivot** item\n",
    "3. call the quicksort function recursively to sort the two subarrays: `less_than_pivot` and `greater_than_pivot` This is called **the divide and conquer technique**\n",
    "4. Join `less_than_pivot`, `pivot` and `greater_than_pivot` subarrays into a sorted complete array\n"
   ]
  },
  {
   "cell_type": "code",
   "execution_count": 31,
   "metadata": {},
   "outputs": [],
   "source": [
    "def quick_sort(unsorted_list : list[int]):\n",
    "    if len(unsorted_list) <=1:\n",
    "        return unsorted_list\n",
    "    less_than_pivot = []\n",
    "    greater_than_pivot = []\n",
    "    pivot = unsorted_list[0]\n",
    "    for value in unsorted_list[1:]:\n",
    "        if value <= unsorted_list[0]:\n",
    "            less_than_pivot.append(value)\n",
    "        else:\n",
    "            greater_than_pivot.append(value)\n",
    "    print(\"%25s %1s %-15s\" % (less_than_pivot, pivot, greater_than_pivot))\n",
    "    return quick_sort(less_than_pivot) + [pivot] + quick_sort(greater_than_pivot)\n",
    "    \n"
   ]
  },
  {
   "cell_type": "code",
   "execution_count": 32,
   "metadata": {},
   "outputs": [
    {
     "name": "stdout",
     "output_type": "stream",
     "text": [
      "                       [] -1 [10, 7, 5, 15, 12]\n",
      "                   [7, 5] 10 [15, 12]       \n",
      "                      [5] 7 []             \n",
      "                     [12] 15 []             \n"
     ]
    },
    {
     "data": {
      "text/plain": [
       "[-1, 5, 7, 10, 12, 15]"
      ]
     },
     "execution_count": 32,
     "metadata": {},
     "output_type": "execute_result"
    }
   ],
   "source": [
    "unsorted_list = [-1,10,7,5,15,12]\n",
    "\n",
    "quick_sort(unsorted_list)"
   ]
  },
  {
   "attachments": {},
   "cell_type": "markdown",
   "metadata": {},
   "source": [
    "# Merge sort"
   ]
  },
  {
   "cell_type": "code",
   "execution_count": 37,
   "metadata": {},
   "outputs": [],
   "source": [
    "def merge_sort(unsorted_list : list[int]):\n",
    "    print(unsorted_list)\n",
    "    if len(unsorted_list)<=1:\n",
    "        return unsorted_list\n",
    "    \n",
    "    mid_idx = len(unsorted_list)//2\n",
    "    left = merge_sort(unsorted_list[:mid_idx])\n",
    "    right = merge_sort(unsorted_list[mid_idx:])\n",
    "\n",
    "    print(\"%15s %-15s\" % (left, right))\n",
    "    sorted_list = []\n",
    "    left_idx = 0\n",
    "    right_idx = 0\n",
    "    while left_idx<len(left) and right_idx<len(right):\n",
    "        if left[left_idx]<right[right_idx]:\n",
    "            sorted_list.append(left[left_idx])\n",
    "            left_idx+=1\n",
    "        else:\n",
    "            sorted_list.append(right[right_idx])\n",
    "            right_idx+=1\n",
    "    sorted_list += left[left_idx:]\n",
    "    sorted_list += right[right_idx:]\n",
    "    return sorted_list\n"
   ]
  },
  {
   "cell_type": "code",
   "execution_count": 38,
   "metadata": {},
   "outputs": [
    {
     "name": "stdout",
     "output_type": "stream",
     "text": [
      "[-1, 10, 7, 5, 15, 12]\n",
      "[-1, 10, 7]\n",
      "[-1]\n",
      "[10, 7]\n",
      "[10]\n",
      "[7]\n",
      "           [10] [7]            \n",
      "           [-1] [7, 10]        \n",
      "[5, 15, 12]\n",
      "[5]\n",
      "[15, 12]\n",
      "[15]\n",
      "[12]\n",
      "           [15] [12]           \n",
      "            [5] [12, 15]       \n",
      "    [-1, 7, 10] [5, 12, 15]    \n"
     ]
    },
    {
     "data": {
      "text/plain": [
       "[-1, 5, 7, 10, 12, 15]"
      ]
     },
     "execution_count": 38,
     "metadata": {},
     "output_type": "execute_result"
    }
   ],
   "source": [
    "unsorted_list = [-1,10,7,5,15,12]\n",
    "\n",
    "merge_sort(unsorted_list)"
   ]
  },
  {
   "attachments": {},
   "cell_type": "markdown",
   "metadata": {},
   "source": [
    "# Linked List"
   ]
  },
  {
   "attachments": {},
   "cell_type": "markdown",
   "metadata": {},
   "source": [
    "class Node:\n",
    "    def __init__(self, data):\n",
    "        self.data = data\n",
    "        self.next = None\n",
    "\n",
    "    def __repr__(self):\n",
    "        return self.data\n",
    "\n",
    "class LinkedList:\n",
    "    def __init__(self):\n",
    "        self.head = None\n",
    "\n",
    "    def __repr__(self):\n",
    "        node = self.head\n",
    "        nodes = []\n",
    "        while node is not None:\n",
    "            nodes.append(node.data)\n",
    "            node = node.next\n",
    "        nodes.append(\"None\")\n",
    "        return \" -> \".join(nodes)"
   ]
  },
  {
   "cell_type": "code",
   "execution_count": 60,
   "metadata": {},
   "outputs": [
    {
     "data": {
      "text/plain": [
       "{'b': 1, 'a': 1}"
      ]
     },
     "execution_count": 60,
     "metadata": {},
     "output_type": "execute_result"
    }
   ],
   "source": [
    "import re\n",
    "s1 = \"ab\"\n",
    "s2 = \"eidbaooo\"\n",
    "\n",
    "d = dict((char, s1.count(char)) for char in set(s1))\n",
    "d"
   ]
  },
  {
   "cell_type": "code",
   "execution_count": 65,
   "metadata": {},
   "outputs": [
    {
     "name": "stdout",
     "output_type": "stream",
     "text": [
      "{'e': 1, 'i': 1}\n",
      "{'i': 1, 'd': 1}\n",
      "{'b': 1, 'd': 1}\n",
      "True\n"
     ]
    }
   ],
   "source": [
    "n = len(s2)\n",
    "left = 0\n",
    "right = len(s1)-1\n",
    "results = []\n",
    "d = dict((char, s1.count(char)) for char in set(s1))\n",
    "while right <= n:\n",
    "    window = dict((char, s2[left:right+1].count(char)) for char in set(s2[left:right+1]))\n",
    "    if window != d:\n",
    "        print(window)\n",
    "        left+=1\n",
    "        right+=1\n",
    "        \n",
    "    else:\n",
    "        print(True)\n",
    "        break\n"
   ]
  },
  {
   "attachments": {},
   "cell_type": "markdown",
   "metadata": {},
   "source": [
    "# Longest Common Subsequence"
   ]
  },
  {
   "cell_type": "code",
   "execution_count": null,
   "metadata": {},
   "outputs": [],
   "source": [
    "def longest_common_subsequence(s1, s2):\n",
    "\n",
    "    if len(s2) < len(s1):\n",
    "            s1, s2 = s2, s1\n",
    "\n",
    "    # Create a matrix of zeros with dimensions len(s1) x len(s2)\n",
    "    matrix = [[0] * (len(s2) + 1) for _ in range(len(s1) + 1)]\n",
    "\n",
    "    # Iterate over the characters in s1 and s2, filling in the matrix\n",
    "    for i, c1 in enumerate(s1):\n",
    "        for j, c2 in enumerate(s2):\n",
    "            if c1 == c2:\n",
    "                matrix[i + 1][j + 1] = matrix[i][j] + 1\n",
    "            else:\n",
    "                matrix[i + 1][j + 1] = max(matrix[i + 1][j], matrix[i][j + 1])\n",
    "\n",
    "    # The length of the longest common subsequence is the value in the bottom\n",
    "    # right corner of the matrix\n",
    "    lcs_length = matrix[-1][-1]\n",
    "\n",
    "    # Trace back through the matrix to find the longest common subsequence itself\n",
    "    i, j = len(s1), len(s2)\n",
    "    lcs = []\n",
    "    while i > 0 and j > 0:\n",
    "        if matrix[i][j] == matrix[i - 1][j]:\n",
    "            i -= 1\n",
    "        elif matrix[i][j] == matrix[i][j - 1]:\n",
    "            j -= 1\n",
    "        else:\n",
    "            assert s1[i - 1] == s2[j - 1]\n",
    "            lcs.append(s1[i - 1])\n",
    "            i -= 1\n",
    "            j -= 1\n",
    "\n",
    "    return \"\".join(reversed(lcs))\n"
   ]
  },
  {
   "cell_type": "code",
   "execution_count": 3,
   "metadata": {},
   "outputs": [
    {
     "name": "stdout",
     "output_type": "stream",
     "text": [
      "[[0, 0, 0, 0, 0, 0, 0, 0], [0, 0, 0, 0, 0, 0, 0, 0], [0, 0, 0, 0, 0, 0, 0, 0], [0, 1, 1, 1, 1, 1, 1, 1], [0, 1, 1, 1, 1, 1, 2, 2], [0, 1, 1, 1, 1, 1, 2, 2], [0, 1, 1, 1, 2, 2, 2, 2]]\n"
     ]
    }
   ],
   "source": [
    "\n",
    "s1 = \"ezupkr\"\n",
    "s2 = \"ubmrapg\"\n",
    "\n",
    "matrix = [[0] * (len(s2) + 1) for _ in range(len(s1) + 1)]\n",
    "\n",
    "for i, c1 in enumerate(s1):\n",
    "    for j, c2 in enumerate(s2):\n",
    "        if c1 == c2:\n",
    "            matrix[i + 1][j + 1] = matrix[i][j] + 1\n",
    "        else:\n",
    "            matrix[i + 1][j + 1] = max(matrix[i + 1][j], matrix[i][j + 1])\n",
    "\n",
    "print(matrix)"
   ]
  },
  {
   "cell_type": "code",
   "execution_count": 4,
   "metadata": {},
   "outputs": [
    {
     "name": "stdout",
     "output_type": "stream",
     "text": [
      "up\n"
     ]
    }
   ],
   "source": [
    "i, j = len(s1), len(s2)\n",
    "lcs = []\n",
    "while i > 0 and j > 0:\n",
    "    if matrix[i][j] == matrix[i - 1][j]:\n",
    "        i -= 1\n",
    "    elif matrix[i][j] == matrix[i][j - 1]:\n",
    "        j -= 1\n",
    "    else:\n",
    "        assert s1[i - 1] == s2[j - 1]\n",
    "        lcs.append(s1[i - 1])\n",
    "        i -= 1\n",
    "        j -= 1\n",
    "\n",
    "print(\"\".join(reversed(lcs)))"
   ]
  }
 ],
 "metadata": {
  "kernelspec": {
   "display_name": "django_env",
   "language": "python",
   "name": "python3"
  },
  "language_info": {
   "codemirror_mode": {
    "name": "ipython",
    "version": 3
   },
   "file_extension": ".py",
   "mimetype": "text/x-python",
   "name": "python",
   "nbconvert_exporter": "python",
   "pygments_lexer": "ipython3",
   "version": "3.11.2"
  },
  "orig_nbformat": 4
 },
 "nbformat": 4,
 "nbformat_minor": 2
}
