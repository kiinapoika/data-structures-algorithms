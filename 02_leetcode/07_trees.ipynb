{
 "cells": [
  {
   "attachments": {},
   "cell_type": "markdown",
   "metadata": {},
   "source": [
    "# Trees"
   ]
  },
  {
   "cell_type": "code",
   "execution_count": 1,
   "metadata": {},
   "outputs": [],
   "source": [
    "from typing import List, Optional\n",
    "from IPython.display import Image"
   ]
  },
  {
   "attachments": {},
   "cell_type": "markdown",
   "metadata": {},
   "source": [
    "### 226. Invert Binary Tree\n",
    "\n",
    "Given the root of a binary tree, invert the tree, and return its root.\n",
    " \n",
    "Example 1:\n",
    "\n",
    "![question_226_1.jpg](img/question_226_1.jpg)\n",
    "```\n",
    "Input: root = [4,2,7,1,3,6,9]\n",
    "Output: [4,7,2,9,6,3,1]\n",
    "```\n",
    "Example 2:\n",
    "\n",
    "![question_226_2.jpg](img/question_226_2.jpg)\n",
    "```\n",
    "Input: root = [2,1,3]\n",
    "Output: [2,3,1]\n",
    "```\n",
    "Example 3:\n",
    "```\n",
    "Input: root = []\n",
    "Output: []\n",
    "```\n",
    "\n",
    "Constraints:\n",
    "```\n",
    "The number of nodes in the tree is in the range [0, 100].\n",
    "-100 <= Node.val <= 100\n",
    "```"
   ]
  },
  {
   "cell_type": "code",
   "execution_count": 7,
   "metadata": {},
   "outputs": [
    {
     "data": {
      "text/plain": [
       "5"
      ]
     },
     "execution_count": 7,
     "metadata": {},
     "output_type": "execute_result"
    }
   ],
   "source": [
    "# Definition for a binary tree node.\n",
    "class TreeNode:\n",
    "    def __init__(self, val=0, left=None, right=None):\n",
    "        self.val = val\n",
    "        self.left = left\n",
    "        self.right = right\n",
    "\n",
    "def invertTree(self, root: Optional[TreeNode]) -> Optional[TreeNode]:\n",
    "    # define the edge case to stop the function\n",
    "    if not root:\n",
    "        return None\n",
    "\n",
    "    # store the current left and right children\n",
    "    left = root.left\n",
    "    right = root.right\n",
    "\n",
    "    # swap the children recursively\n",
    "    root.left = self.invertTree(right)\n",
    "    root.right = self.invertTree(left)\n",
    "\n",
    "    return root\n"
   ]
  },
  {
   "attachments": {},
   "cell_type": "markdown",
   "metadata": {},
   "source": [
    "### 104. Maximum Depth of Binary Tree\n",
    "\n",
    "Given the root of a binary tree, return its maximum depth.\n",
    "\n",
    "A binary tree's maximum depth is the number of nodes along the longest path from the root node down to the farthest leaf node.\n",
    "\n",
    "Example 1:\n",
    "\n",
    "![question_104.jpg](img/question_104.jpg)\n",
    "```\n",
    "Input: root = [3,9,20,null,null,15,7]\n",
    "Output: 3\n",
    "```\n",
    "\n",
    "Example 2:\n",
    "```\n",
    "Input: root = [1,null,2]\n",
    "Output: 2\n",
    "```\n",
    "\n",
    "Constraints:\n",
    "```\n",
    "The number of nodes in the tree is in the range [0, 104].\n",
    "-100 <= Node.val <= 100\n",
    "```\n"
   ]
  },
  {
   "cell_type": "code",
   "execution_count": 8,
   "metadata": {},
   "outputs": [
    {
     "name": "stdout",
     "output_type": "stream",
     "text": [
      "None None None -3 None 0 -2\n"
     ]
    }
   ],
   "source": [
    "# Definition for a binary tree node.\n",
    "class TreeNode:\n",
    "    def __init__(self, val=0, left=None, right=None):\n",
    "        self.val = val\n",
    "        self.left = left\n",
    "        self.right = right\n",
    "\n",
    "    def maxDepth(self, root: Optional[TreeNode]) -> int:\n",
    "        if root is None:\n",
    "            return 0\n",
    "\n",
    "        else:\n",
    "            left_depth = self.maxDepth(root.left)\n",
    "            right_depth = self.maxDepth(root.right)\n",
    "\n",
    "            return max(left_depth, right_depth) + 1"
   ]
  },
  {
   "attachments": {},
   "cell_type": "markdown",
   "metadata": {},
   "source": [
    "### 530. Minimum Absolute Difference in BST\n",
    "\n",
    "https://leetcode.com/problems/minimum-absolute-difference-in-bst\n",
    "\n",
    "Given the root of a Binary Search Tree (BST), return the minimum absolute difference between the values of any two different nodes in the tree.\n",
    "\n",
    " \n",
    "\n",
    "Example 1:\n",
    "\n",
    "\n",
    "Input: root = [4,2,6,1,3]\n",
    "Output: 1\n",
    "Example 2:\n",
    "\n",
    "\n",
    "Input: root = [1,0,48,null,null,12,49]\n",
    "Output: 1\n",
    " \n",
    "\n",
    "Constraints:\n",
    "\n",
    "The number of nodes in the tree is in the range [2, 104].\n",
    "0 <= Node.val <= 105\n"
   ]
  },
  {
   "cell_type": "code",
   "execution_count": null,
   "metadata": {},
   "outputs": [],
   "source": [
    "def getMinimumDifference(root: Optional[TreeNode]) -> int:\n",
    "\n",
    "    node_values = []\n",
    "    def dfs(node):\n",
    "\n",
    "        if not node:\n",
    "            return\n",
    "\n",
    "        node_values.append(node.val)\n",
    "\n",
    "        dfs(node.right)\n",
    "        dfs(node.left)\n",
    "\n",
    "    dfs(root)\n",
    "    node_values.sort()\n",
    "    diff = node_values[-1] - node_values[0]\n",
    "\n",
    "    for i in range(1, len(node_values)):\n",
    "        diff = min(diff, node_values[i] - node_values[i-1])\n",
    "\n",
    "    return diff\n",
    "\n",
    "\n",
    "\n",
    "# def getMinimumDifference(self, root: Optional[TreeNode]) -> int:\n",
    "#     stack=[]\n",
    "#     current=root\n",
    "#     prev=None\n",
    "#     res=math.inf\n",
    "#     while current or stack:\n",
    "#         if current:\n",
    "#            stack.append(current)\n",
    "#            current=current.left\n",
    "#         else:\n",
    "#             current=stack.pop()\n",
    "#             if prev:\n",
    "#                 res=min(res,current.val-prev.val)\n",
    "#             prev=current\n",
    "#             current=current.right\n",
    "#     return res"
   ]
  }
 ],
 "metadata": {
  "kernelspec": {
   "display_name": "algorithms",
   "language": "python",
   "name": "python3"
  },
  "language_info": {
   "codemirror_mode": {
    "name": "ipython",
    "version": 3
   },
   "file_extension": ".py",
   "mimetype": "text/x-python",
   "name": "python",
   "nbconvert_exporter": "python",
   "pygments_lexer": "ipython3",
   "version": "3.11.2"
  },
  "orig_nbformat": 4
 },
 "nbformat": 4,
 "nbformat_minor": 2
}
