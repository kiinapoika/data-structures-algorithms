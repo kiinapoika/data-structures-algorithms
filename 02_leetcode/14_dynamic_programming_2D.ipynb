{
 "cells": [
  {
   "attachments": {},
   "cell_type": "markdown",
   "metadata": {},
   "source": [
    "# Dynamic Programming 2D"
   ]
  },
  {
   "cell_type": "code",
   "execution_count": 2,
   "metadata": {},
   "outputs": [],
   "source": [
    "from typing import List, Optional\n",
    "from IPython.display import Image\n",
    "import collections"
   ]
  },
  {
   "attachments": {},
   "cell_type": "markdown",
   "metadata": {},
   "source": [
    "### 304. Range Sum Query 2D - Immutable\n",
    "\n",
    "https://leetcode.com/problems/range-sum-query-2d-immutable/\n",
    "\n",
    "Given a 2D matrix matrix, handle multiple queries of the following type:\n",
    "\n",
    "Calculate the sum of the elements of matrix inside the rectangle defined by its upper left corner (row1, col1) and lower right corner (row2, col2).\n",
    "Implement the NumMatrix class:\n",
    "\n",
    "NumMatrix(int[][] matrix) Initializes the object with the integer matrix matrix.\n",
    "int sumRegion(int row1, int col1, int row2, int col2) Returns the sum of the elements of matrix inside the rectangle defined by its upper left corner (row1, col1) and lower right corner (row2, col2).\n",
    "You must design an algorithm where sumRegion works on O(1) time complexity.\n",
    "\n",
    "Example 1:\n",
    "```\n",
    "Input\n",
    "[\"NumMatrix\", \"sumRegion\", \"sumRegion\", \"sumRegion\"]\n",
    "[[[[3, 0, 1, 4, 2], [5, 6, 3, 2, 1], [1, 2, 0, 1, 5], [4, 1, 0, 1, 7], [1, 0, 3, 0, 5]]], [2, 1, 4, 3], [1, 1, 2, 2], [1, 2, 2, 4]]\n",
    "Output\n",
    "[null, 8, 11, 12]\n",
    "\n",
    "Explanation\n",
    "NumMatrix numMatrix = new NumMatrix([[3, 0, 1, 4, 2], [5, 6, 3, 2, 1], [1, 2, 0, 1, 5], [4, 1, 0, 1, 7], [1, 0, 3, 0, 5]]);\n",
    "numMatrix.sumRegion(2, 1, 4, 3); // return 8 (i.e sum of the red rectangle)\n",
    "numMatrix.sumRegion(1, 1, 2, 2); // return 11 (i.e sum of the green rectangle)\n",
    "numMatrix.sumRegion(1, 2, 2, 4); // return 12 (i.e sum of the blue rectangle)\n",
    "```\n",
    "\n",
    "Constraints:\n",
    "```\n",
    "m == matrix.length\n",
    "n == matrix[i].length\n",
    "1 <= m, n <= 200\n",
    "-104 <= matrix[i][j] <= 104\n",
    "0 <= row1 <= row2 < m\n",
    "0 <= col1 <= col2 < n\n",
    "At most 104 calls will be made to sumRegion.\n",
    "```"
   ]
  },
  {
   "cell_type": "code",
   "execution_count": 20,
   "metadata": {},
   "outputs": [
    {
     "name": "stdout",
     "output_type": "stream",
     "text": [
      "8\n"
     ]
    }
   ],
   "source": [
    "class NumMatrix:\n",
    "\n",
    "    def __init__(self, matrix: List[List[int]]):\n",
    "        if not matrix or not matrix[0]:\n",
    "            return None\n",
    "        rows = len(matrix)\n",
    "        cols = len(matrix[0])\n",
    "        self.dp = [[0] * (cols + 1) for _ in range(rows + 1)]\n",
    "        for i in range(1, rows + 1):\n",
    "            for j in range(1, cols + 1):\n",
    "                self.dp[i][j] = self.dp[i][j - 1] + \\\n",
    "                                self.dp[i - 1][j] - \\\n",
    "                                self.dp[i - 1][j - 1] + \\\n",
    "                                matrix[i - 1][j - 1]\n",
    "\n",
    "    def sumRegion(self, row1: int, col1: int, row2: int, col2: int) -> int:\n",
    "        region_sum = self.dp[row2+1][col2+1] - \\\n",
    "                    self.dp[row2+1][col1] - \\\n",
    "                    self.dp[row1][col2+1] + \\\n",
    "                    self.dp[row1][col1]\n",
    "        return region_sum\n",
    "\n",
    "matrix = [[3, 0, 1, 4, 2], \n",
    "    [5, 6, 3, 2, 1], \n",
    "    [1, 2, 0, 1, 5], \n",
    "    [4, 1, 0, 1, 7], \n",
    "    [1, 0, 3, 0, 5]]\n",
    "\n",
    "num_matrix = NumMatrix(matrix)\n",
    "print(num_matrix.sumRegion(2, 1, 4, 3))"
   ]
  },
  {
   "attachments": {},
   "cell_type": "markdown",
   "metadata": {},
   "source": [
    "### 1444. Number of Ways of Cutting a Pizza\n",
    "\n",
    "https://leetcode.com/problems/number-of-ways-of-cutting-a-pizza/\n",
    "\n",
    "Given a rectangular pizza represented as a rows x cols matrix containing the following characters: 'A' (an apple) and '.' (empty cell) and given the integer k. You have to cut the pizza into k pieces using k-1 cuts. \n",
    "\n",
    "For each cut you choose the direction: vertical or horizontal, then you choose a cut position at the cell boundary and cut the pizza into two pieces. If you cut the pizza vertically, give the left part of the pizza to a person. If you cut the pizza horizontally, give the upper part of the pizza to a person. Give the last piece of pizza to the last person.\n",
    "\n",
    "Return the number of ways of cutting the pizza such that each piece contains at least one apple. Since the answer can be a huge number, return this modulo 10^9 + 7.\n",
    "\n",
    "\n",
    "Example 1:\n",
    "```\n",
    "Input: pizza = [\"A..\",\"AAA\",\"...\"], k = 3\n",
    "Output: 3 \n",
    "Explanation: The figure above shows the three ways to cut the pizza. Note that pieces must contain at least one apple.\n",
    "```\n",
    "\n",
    "Example 2:\n",
    "```\n",
    "Input: pizza = [\"A..\",\"AA.\",\"...\"], k = 3\n",
    "Output: 1\n",
    "```\n",
    "\n",
    "Example 3:\n",
    "```\n",
    "Input: pizza = [\"A..\",\"A..\",\"...\"], k = 1\n",
    "Output: 1\n",
    "``` \n",
    "\n",
    "Constraints:\n",
    "```\n",
    "1 <= rows, cols <= 50\n",
    "rows == pizza.length\n",
    "cols == pizza[i].length\n",
    "1 <= k <= 10\n",
    "pizza consists of characters 'A' and '.' only.\n",
    "```"
   ]
  },
  {
   "cell_type": "code",
   "execution_count": 11,
   "metadata": {},
   "outputs": [
    {
     "data": {
      "text/plain": [
       "3"
      ]
     },
     "execution_count": 11,
     "metadata": {},
     "output_type": "execute_result"
    }
   ],
   "source": [
    "\n",
    "def ways(pizza: List[str], k: int) -> int:\n",
    "    rows = len(pizza)\n",
    "    cols = len(pizza[0])\n",
    "    kmod = 10 ** 9 + 7\n",
    "\n",
    "    # @cache\n",
    "    def hasApple(start_row, start_col, end_row, end_col):\n",
    "        for r in range(start_row, end_row + 1):\n",
    "            for c in range(start_col, end_col + 1):\n",
    "                if pizza[r][c] == \"A\":\n",
    "                    return True\n",
    "        return False\n",
    "\n",
    "    # @cache\n",
    "    def dp(start_row, start_col, num_slices_left):\n",
    "        if num_slices_left == 1:\n",
    "            if hasApple(start_row, start_col, rows - 1, cols - 1):\n",
    "                return 1\n",
    "        \n",
    "        num_ways = 0\n",
    "        for i in range(start_col + 1, cols):\n",
    "            if hasApple(start_row, start_col, rows - 1, i - 1):\n",
    "                num_ways += dp(start_row, i, num_slices_left - 1)\n",
    "        for j in range(start_row + 1, rows):\n",
    "            if hasApple(start_row, start_col, j - 1, cols - 1):\n",
    "                num_ways += dp(j, start_col, num_slices_left - 1)\n",
    "        return num_ways % kmod\n",
    "\n",
    "    return dp(0, 0, k)\n",
    "\n",
    "ways(pizza = [\"A..\",\"AAA\",\"...\"], k = 3)"
   ]
  },
  {
   "cell_type": "code",
   "execution_count": null,
   "metadata": {},
   "outputs": [],
   "source": []
  }
 ],
 "metadata": {
  "kernelspec": {
   "display_name": "algorithms",
   "language": "python",
   "name": "python3"
  },
  "language_info": {
   "codemirror_mode": {
    "name": "ipython",
    "version": 3
   },
   "file_extension": ".py",
   "mimetype": "text/x-python",
   "name": "python",
   "nbconvert_exporter": "python",
   "pygments_lexer": "ipython3",
   "version": "3.11.4"
  },
  "orig_nbformat": 4
 },
 "nbformat": 4,
 "nbformat_minor": 2
}
