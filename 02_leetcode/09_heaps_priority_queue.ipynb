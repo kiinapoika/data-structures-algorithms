{
 "cells": [
  {
   "attachments": {},
   "cell_type": "markdown",
   "metadata": {},
   "source": [
    "# Heaps & Priority Queue\n",
    "\n",
    "https://docs.python.org/3/library/heapq.html\n",
    "\n",
    "Heaps are binary trees for which every parent node has a value less than or equal to any of its children. This implementation uses arrays for which `heap[k] <= heap[2*k+1]` and `heap[k] <= heap[2*k+2]` for all `k`, counting elements from zero. For the sake of comparison, non-existing elements are considered to be infinite. The interesting property of a heap is that its smallest element is always the root, heap[0]."
   ]
  },
  {
   "cell_type": "code",
   "execution_count": 9,
   "metadata": {},
   "outputs": [],
   "source": [
    "from typing import List, Optional\n",
    "from IPython.display import Image\n",
    "import heapq\n"
   ]
  },
  {
   "cell_type": "code",
   "execution_count": 19,
   "metadata": {},
   "outputs": [
    {
     "name": "stdout",
     "output_type": "stream",
     "text": [
      "[2, 4, 8, 5]\n"
     ]
    }
   ],
   "source": [
    "nums = [4, 5, 8, 2]\n",
    "\n",
    "# Transform list nums into a heap, in-place, in linear time.\n",
    "heapq.heapify(nums)\n",
    "print(nums)"
   ]
  },
  {
   "cell_type": "code",
   "execution_count": 20,
   "metadata": {},
   "outputs": [
    {
     "name": "stdout",
     "output_type": "stream",
     "text": [
      "[2, 3, 8, 5, 4]\n"
     ]
    }
   ],
   "source": [
    "# Push the value item onto the heap, maintaining the heap invariant.\n",
    "heapq.heappush(nums, 3)\n",
    "print(nums)"
   ]
  },
  {
   "cell_type": "code",
   "execution_count": 21,
   "metadata": {},
   "outputs": [
    {
     "name": "stdout",
     "output_type": "stream",
     "text": [
      "2 [3, 4, 8, 5]\n"
     ]
    }
   ],
   "source": [
    "# Pop and return the smallest item from the heap, maintaining the heap invariant. If the heap is empty, IndexError is raised. To access the smallest item without popping it, use heap[0].\n",
    "\n",
    "print(heapq.heappop(nums), nums)"
   ]
  },
  {
   "attachments": {},
   "cell_type": "markdown",
   "metadata": {},
   "source": [
    "### 703. Kth Largest Element in a Stream\n",
    "\n",
    "Design a class to find the kth largest element in a stream. Note that it is the kth largest element in the sorted order, not the kth distinct element.\n",
    "\n",
    "Implement KthLargest class:\n",
    "\n",
    "KthLargest(int k, int[] nums) Initializes the object with the integer k and the stream of integers nums.\n",
    "int add(int val) Appends the integer val to the stream and returns the element representing the kth largest element in the stream.\n",
    " \n",
    "\n",
    "Example 1:\n",
    "```\n",
    "Input\n",
    "[\"KthLargest\", \"add\", \"add\", \"add\", \"add\", \"add\"]\n",
    "[[3, [4, 5, 8, 2]], [3], [5], [10], [9], [4]]\n",
    "Output\n",
    "[null, 4, 5, 5, 8, 8]\n",
    "\n",
    "Explanation\n",
    "KthLargest kthLargest = new KthLargest(3, [4, 5, 8, 2]);\n",
    "kthLargest.add(3);   // return 4\n",
    "kthLargest.add(5);   // return 5\n",
    "kthLargest.add(10);  // return 5\n",
    "kthLargest.add(9);   // return 8\n",
    "kthLargest.add(4);   // return 8\n",
    "``` \n",
    "\n",
    "Constraints:\n",
    "```\n",
    "1 <= k <= 104\n",
    "0 <= nums.length <= 104\n",
    "-104 <= nums[i] <= 104\n",
    "-104 <= val <= 104\n",
    "At most 104 calls will be made to add.\n",
    "It is guaranteed that there will be at least k elements in the array when you search for the kth element.\n",
    "```"
   ]
  },
  {
   "cell_type": "code",
   "execution_count": 6,
   "metadata": {},
   "outputs": [
    {
     "name": "stdout",
     "output_type": "stream",
     "text": [
      "4\n",
      "5\n",
      "5\n",
      "8\n",
      "8\n"
     ]
    }
   ],
   "source": [
    "class KthLargest:\n",
    "\n",
    "    def __init__(self, k: int, nums: List[int]):\n",
    "        # minHeap with k largest integers\n",
    "        self.minHeap, self.k = nums, k\n",
    "\n",
    "        heapq.heapify(self.minHeap)\n",
    "\n",
    "        while len(self.minHeap) > k:\n",
    "            heapq.heappop(self.minHeap)\n",
    "\n",
    "    def add(self, val: int) -> int:\n",
    "        # add a value to the minHeap\n",
    "        heapq.heappush(self.minHeap, val)\n",
    "\n",
    "        # if the total length of minHeap is greater than k, pop the min val of minHeap\n",
    "        if len(self.minHeap) > self.k:\n",
    "            heapq.heappop(self.minHeap)\n",
    "        return self.minHeap[0]\n",
    "\n",
    "\n",
    "# Your KthLargest object will be instantiated and called as such:\n",
    "k = 3\n",
    "nums = [4, 5, 8, 2]\n",
    "obj = KthLargest(k, nums)\n",
    "print(obj.add(3))\n",
    "print(obj.add(5))\n",
    "print(obj.add(10))\n",
    "print(obj.add(9))\n",
    "print(obj.add(4))"
   ]
  },
  {
   "attachments": {},
   "cell_type": "markdown",
   "metadata": {},
   "source": [
    "### 1046. Last Stone Weight\n",
    "\n",
    "You are given an array of integers stones where stones[i] is the weight of the ith stone.\n",
    "\n",
    "We are playing a game with the stones. On each turn, we choose the heaviest two stones and smash them together. Suppose the heaviest two stones have weights x and y with x <= y. The result of this smash is:\n",
    "\n",
    "If x == y, both stones are destroyed, and\n",
    "If x != y, the stone of weight x is destroyed, and the stone of weight y has new weight y - x.\n",
    "At the end of the game, there is at most one stone left.\n",
    "\n",
    "Return the weight of the last remaining stone. If there are no stones left, return 0.\n",
    "\n",
    " \n",
    "\n",
    "Example 1:\n",
    "```\n",
    "Input: stones = [2,7,4,1,8,1]\n",
    "Output: 1\n",
    "Explanation: \n",
    "We combine 7 and 8 to get 1 so the array converts to [2,4,1,1,1] then,\n",
    "we combine 2 and 4 to get 2 so the array converts to [2,1,1,1] then,\n",
    "we combine 2 and 1 to get 1 so the array converts to [1,1,1] then,\n",
    "we combine 1 and 1 to get 0 so the array converts to [1] then that's the value of the last stone.\n",
    "```\n",
    "Example 2:\n",
    "```\n",
    "Input: stones = [1]\n",
    "Output: 1\n",
    "``` \n",
    "\n",
    "Constraints:\n",
    "```\n",
    "1 <= stones.length <= 30\n",
    "1 <= stones[i] <= 1000\n",
    "```\n"
   ]
  },
  {
   "cell_type": "code",
   "execution_count": 10,
   "metadata": {},
   "outputs": [
    {
     "data": {
      "text/plain": [
       "1"
      ]
     },
     "execution_count": 10,
     "metadata": {},
     "output_type": "execute_result"
    }
   ],
   "source": [
    "import heapq\n",
    "\n",
    "def lastStoneWeight(stones: List[int]) -> int:\n",
    "    # create a maxHeap by using a minHeap and negate all values\n",
    "    stones = [-s for s in stones]\n",
    "    heapq.heapify(stones) \n",
    "        \n",
    "    while len(stones) > 1:\n",
    "        # obtain the largest weight negating the min value to obtain the largest value\n",
    "        largest = heapq.heappop(stones)\n",
    "        \n",
    "        # second largest weight after popping the largest weight\n",
    "        secondLargest = heapq.heappop(stones)\n",
    "\n",
    "        # if x and y are not equal, update the y value as the absolute difference between x and y\n",
    "        if secondLargest > largest:\n",
    "            heapq.heappush(stones, largest - secondLargest)\n",
    "\n",
    "    # append 0 if there are no more stones left in the heap\n",
    "    stones.append(0)\n",
    "    \n",
    "    return abs(stones[0])\n",
    "\n",
    "stones = [2,7,4,1,8,1]\n",
    "lastStoneWeight(stones)"
   ]
  },
  {
   "attachments": {},
   "cell_type": "markdown",
   "metadata": {},
   "source": [
    "### 973. K Closest Points to Origin\n",
    "\n",
    "Given an array of points where points[i] = [xi, yi] represents a point on the X-Y plane and an integer k, return the k closest points to the origin (0, 0).\n",
    "\n",
    "The distance between two points on the X-Y plane is the Euclidean distance (i.e., √(x1 - x2)2 + (y1 - y2)2).\n",
    "\n",
    "You may return the answer in any order. The answer is guaranteed to be unique (except for the order that it is in).\n",
    "\n",
    " \n",
    "\n",
    "Example 1:\n",
    "```\n",
    "Input: points = [[1,3],[-2,2]], k = 1\n",
    "Output: [[-2,2]]\n",
    "Explanation:\n",
    "The distance between (1, 3) and the origin is sqrt(10).\n",
    "The distance between (-2, 2) and the origin is sqrt(8).\n",
    "Since sqrt(8) < sqrt(10), (-2, 2) is closer to the origin.\n",
    "We only want the closest k = 1 points from the origin, so the answer is just [[-2,2]].\n",
    "\n",
    "```\n",
    "Example 2:\n",
    "```\n",
    "Input: points = [[3,3],[5,-1],[-2,4]], k = 2\n",
    "Output: [[3,3],[-2,4]]\n",
    "Explanation: The answer [[-2,4],[3,3]] would also be accepted.\n",
    "``` \n",
    "\n",
    "Constraints:\n",
    "```\n",
    "1 <= k <= points.length <= 104\n",
    "-104 < xi, yi < 104\n",
    "```"
   ]
  },
  {
   "cell_type": "code",
   "execution_count": null,
   "metadata": {},
   "outputs": [],
   "source": [
    "\n",
    "def kClosest(points: List[List[int]], k: int) -> List[List[int]]:\n",
    "    minHeap = []\n",
    "    for x, y in points:\n",
    "        dist = x**2 + y**2\n",
    "        minHeap.append([dist, x, y])\n",
    "\n",
    "    heapq.heapify(minHeap)\n",
    "\n",
    "    res = []\n",
    "    while k>0:\n",
    "        dist, x, y = heapq.heappop(minHeap)\n",
    "        res.append([x, y])\n",
    "        k-=1\n",
    "\n",
    "    return res\n"
   ]
  }
 ],
 "metadata": {
  "kernelspec": {
   "display_name": "algorithms",
   "language": "python",
   "name": "python3"
  },
  "language_info": {
   "codemirror_mode": {
    "name": "ipython",
    "version": 3
   },
   "file_extension": ".py",
   "mimetype": "text/x-python",
   "name": "python",
   "nbconvert_exporter": "python",
   "pygments_lexer": "ipython3",
   "version": "3.11.2"
  },
  "orig_nbformat": 4
 },
 "nbformat": 4,
 "nbformat_minor": 2
}
