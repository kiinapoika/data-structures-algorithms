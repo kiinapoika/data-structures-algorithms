{
 "cells": [
  {
   "attachments": {},
   "cell_type": "markdown",
   "metadata": {},
   "source": [
    "# Intervals"
   ]
  },
  {
   "cell_type": "code",
   "execution_count": 1,
   "metadata": {},
   "outputs": [],
   "source": [
    "from typing import List, Optional\n",
    "from IPython.display import Image\n",
    "import heapq\n",
    "import collections"
   ]
  },
  {
   "attachments": {},
   "cell_type": "markdown",
   "metadata": {},
   "source": [
    "### 57. Insert Interval\n",
    "\n",
    "You are given an array of non-overlapping intervals intervals where intervals[i] = [starti, endi] represent the start and the end of the ith interval and intervals is sorted in ascending order by starti. You are also given an interval newInterval = [start, end] that represents the start and end of another interval.\n",
    "\n",
    "Insert newInterval into intervals such that intervals is still sorted in ascending order by starti and intervals still does not have any overlapping intervals (merge overlapping intervals if necessary).\n",
    "\n",
    "Return intervals after the insertion.\n",
    "\n",
    " \n",
    "\n",
    "Example 1:\n",
    "```\n",
    "Input: intervals = [[1,3],[6,9]], newInterval = [2,5]\n",
    "Output: [[1,5],[6,9]]\n",
    "```\n",
    "Example 2:\n",
    "```\n",
    "Input: intervals = [[1,2],[3,5],[6,7],[8,10],[12,16]], newInterval = [4,8]\n",
    "Output: [[1,2],[3,10],[12,16]]\n",
    "Explanation: Because the new interval [4,8] overlaps with [3,5],[6,7],[8,10].\n",
    "```\n",
    "\n",
    "Constraints:\n",
    "```\n",
    "0 <= intervals.length <= 104\n",
    "intervals[i].length == 2\n",
    "0 <= starti <= endi <= 105\n",
    "intervals is sorted by starti in ascending order.\n",
    "newInterval.length == 2\n",
    "0 <= start <= end <= 105\n",
    "```"
   ]
  },
  {
   "cell_type": "code",
   "execution_count": 6,
   "metadata": {},
   "outputs": [
    {
     "data": {
      "text/plain": [
       "5"
      ]
     },
     "execution_count": 6,
     "metadata": {},
     "output_type": "execute_result"
    }
   ],
   "source": [
    "def insert(intervals: List[List[int]], newInterval: List[int]) -> List[List[int]]:\n",
    "    res = []\n",
    "\n",
    "    for i in range(len(intervals)):\n",
    "        # if the end of the newInterval is smaller than the start of the inverval at ith position\n",
    "        if newInterval[1] < intervals[i][0]:\n",
    "            # no overlap with intervals, append newInterval to res \n",
    "            res.append(newInterval)\n",
    "            # append the intervals sublist to res from the ith position\n",
    "            return res + intervals[i:]\n",
    "\n",
    "        # if the start of the newInterval is greater than the end of the inverval at ith position\n",
    "        elif newInterval[0] > intervals[i][1]:\n",
    "            # no overlap with the interval at ith position\n",
    "            res.append(intervals[i])\n",
    "        \n",
    "        # overlap, merge newInterval with intervals at ith position\n",
    "        else:\n",
    "            newInterval = [min(newInterval[0], intervals[i][0]), max(newInterval[1], intervals[i][1])]\n",
    "\n",
    "    res.append(newInterval)\n",
    "\n",
    "    return res"
   ]
  },
  {
   "attachments": {},
   "cell_type": "markdown",
   "metadata": {},
   "source": [
    "### 252. Meeting Rooms\n",
    "\n",
    "Given an array of meeting time intervals where intervals[i] = [starti, endi], determine if a person could attend all meetings.\n",
    "\n",
    " \n",
    "\n",
    "Example 1:\n",
    "```\n",
    "Input: intervals = [[0,30],[5,10],[15,20]]\n",
    "Output: false\n",
    "```\n",
    "\n",
    "Example 2:\n",
    "```\n",
    "Input: intervals = [[7,10],[2,4]]\n",
    "Output: true\n",
    "``` \n",
    "\n",
    "Constraints:\n",
    "```\n",
    "0 <= intervals.length <= 104\n",
    "intervals[i].length == 2\n",
    "0 <= starti < endi <= 106\n",
    "```\n"
   ]
  },
  {
   "cell_type": "code",
   "execution_count": 2,
   "metadata": {},
   "outputs": [
    {
     "data": {
      "text/plain": [
       "False"
      ]
     },
     "execution_count": 2,
     "metadata": {},
     "output_type": "execute_result"
    }
   ],
   "source": [
    "def canAttendMeetings(intervals: List[List[int]]) -> bool:\n",
    "   \n",
    "   intervals.sort(key = lambda i : i[0])\n",
    "\n",
    "   for i in range(1, len(intervals)):\n",
    "    i1 = intervals[i - 1]\n",
    "    i2 = intervals[i]\n",
    "\n",
    "    if i1[1] > i2[0]:\n",
    "        return False\n",
    "\n",
    "    return True\n",
    "\n",
    "intervals = [[0,30],[5,10],[15,20]]\n",
    "canAttendMeetings(intervals)"
   ]
  },
  {
   "cell_type": "markdown",
   "metadata": {},
   "source": [
    "### 253. Meeting Rooms II\n",
    "\n",
    "Given an array of meeting time intervals intervals where intervals[i] = [starti, endi], return the minimum number of conference rooms required.\n",
    "\n",
    "\n",
    "Example 1:\n",
    "``` \n",
    "Input: intervals = [[0,30],[5,10],[15,20]]\n",
    "Output: 2\n",
    "```\n",
    "\n",
    "Example 2:\n",
    "```\n",
    "Input: intervals = [[7,10],[2,4]]\n",
    "Output: 1\n",
    "```\n",
    "\n",
    "Constraints:\n",
    "```\n",
    "1 <= intervals.length <= 104\n",
    "0 <= starti < endi <= 106\n",
    "```"
   ]
  },
  {
   "cell_type": "code",
   "execution_count": null,
   "metadata": {},
   "outputs": [],
   "source": [
    "def minMeetingRooms(intervals: List[List[int]]) -> int:\n",
    "    heap = []\n",
    "    for interval in intervals:\n",
    "        # start time with 1\n",
    "        heapq.heappush(heap, (interval[0], 1))\n",
    "        # end time with -1\n",
    "        heapq.heappush(heap, (interval[1], -1))\n",
    "    \n",
    "    meetings = 0\n",
    "    rooms = 0\n",
    "\n",
    "    while heap:\n",
    "        meetings += heap[0][1]\n",
    "        rooms = max(rooms, meetings)\n",
    "        heapq.heappop(heap)\n",
    "    return rooms"
   ]
  },
  {
   "cell_type": "markdown",
   "metadata": {},
   "source": []
  }
 ],
 "metadata": {
  "kernelspec": {
   "display_name": "algorithms",
   "language": "python",
   "name": "python3"
  },
  "language_info": {
   "codemirror_mode": {
    "name": "ipython",
    "version": 3
   },
   "file_extension": ".py",
   "mimetype": "text/x-python",
   "name": "python",
   "nbconvert_exporter": "python",
   "pygments_lexer": "ipython3",
   "version": "3.11.4"
  },
  "orig_nbformat": 4
 },
 "nbformat": 4,
 "nbformat_minor": 2
}
