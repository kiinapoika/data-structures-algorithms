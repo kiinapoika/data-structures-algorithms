{
 "cells": [
  {
   "attachments": {},
   "cell_type": "markdown",
   "metadata": {},
   "source": [
    "# Stack"
   ]
  },
  {
   "cell_type": "code",
   "execution_count": 1,
   "metadata": {},
   "outputs": [],
   "source": [
    "from typing import List\n",
    "from IPython.display import Image\n",
    "import collections"
   ]
  },
  {
   "attachments": {},
   "cell_type": "markdown",
   "metadata": {},
   "source": [
    "### Constructor"
   ]
  },
  {
   "cell_type": "code",
   "execution_count": null,
   "metadata": {},
   "outputs": [],
   "source": [
    "# create a new node\n",
    "class Node:\n",
    "    def __init__(self, value):\n",
    "        # assign the value of the node\n",
    "        self.value = value\n",
    "\n",
    "        # end of the node\n",
    "        self.next = None\n",
    "\n",
    "# constructor of a stack\n",
    "class Stack:\n",
    "    def __init__(self, value):\n",
    "        # create a new node using the Node class\n",
    "        new_node = Node(value)\n",
    "\n",
    "        # point the top to the new node\n",
    "        self.top = new_node\n",
    "\n",
    "        # start the stack of height = 1\n",
    "        self.height = 1\n"
   ]
  },
  {
   "attachments": {},
   "cell_type": "markdown",
   "metadata": {},
   "source": [
    "### 20. Valid Parentheses\n",
    "\n",
    "Given a string s containing just the characters '(', ')', '{', '}', '[' and ']', determine if the input string is valid.\n",
    "\n",
    "An input string is valid if:\n",
    "\n",
    "Open brackets must be closed by the same type of brackets.\n",
    "Open brackets must be closed in the correct order.\n",
    "Every close bracket has a corresponding open bracket of the same type.\n",
    " \n",
    "\n",
    "Example 1:\n",
    "```\n",
    "Input: s = \"()\"\n",
    "Output: true\n",
    "```\n",
    "Example 2:\n",
    "```\n",
    "Input: s = \"()[]{}\"\n",
    "Output: true\n",
    "```\n",
    "Example 3:\n",
    "```\n",
    "Input: s = \"(]\"\n",
    "Output: false\n",
    "```\n",
    "\n",
    "Constraints:\n",
    "```\n",
    "1 <= s.length <= 104\n",
    "s consists of parentheses only '()[]{}'.\n",
    "```"
   ]
  },
  {
   "cell_type": "code",
   "execution_count": 3,
   "metadata": {},
   "outputs": [
    {
     "data": {
      "text/plain": [
       "5"
      ]
     },
     "execution_count": 3,
     "metadata": {},
     "output_type": "execute_result"
    }
   ],
   "source": [
    "def isValid(s: str):\n",
    "   stack = []\n",
    "   close_to_open = {\")\": \"(\", \"]\": \"[\", \"}\" : \"{\"}\n",
    "\n",
    "   for char in s:\n",
    "      if char in close_to_open:\n",
    "         if stack and stack[-1] == close_to_open[char]:\n",
    "            stack.pop()\n",
    "\n",
    "         else:\n",
    "            return False\n",
    "\n",
    "      else:\n",
    "         stack.append(char)\n",
    "\n",
    "   return True if not stack else False\n"
   ]
  },
  {
   "attachments": {},
   "cell_type": "markdown",
   "metadata": {},
   "source": [
    "### 155. Min Stack\n",
    "\n",
    "Design a stack that supports push, pop, top, and retrieving the minimum element in constant time.\n",
    "\n",
    "Implement the `MinStack` class:\n",
    "\n",
    "- `MinStack()` initializes the stack object.\n",
    "- `void push(int val)` pushes the element `val` onto the stack.\n",
    "- `void pop()` removes the element on the top of the stack.\n",
    "- `int top()` gets the top element of the stack.\n",
    "- `int getMin()` retrieves the minimum element in the stack.\n",
    "\n",
    "You must implement a solution with `O(1)` time complexity for each function.\n",
    " \n",
    "\n",
    "Example 1:\n",
    "```\n",
    "Input\n",
    "[\"MinStack\",\"push\",\"push\",\"push\",\"getMin\",\"pop\",\"top\",\"getMin\"]\n",
    "[[],[-2],[0],[-3],[],[],[],[]]\n",
    "\n",
    "Output\n",
    "[null,null,null,null,-3,null,0,-2]\n",
    "\n",
    "Explanation\n",
    "MinStack minStack = new MinStack();\n",
    "minStack.push(-2);\n",
    "minStack.push(0);\n",
    "minStack.push(-3);\n",
    "minStack.getMin(); // return -3\n",
    "minStack.pop();\n",
    "minStack.top();    // return 0\n",
    "minStack.getMin(); // return -2\n",
    "```\n",
    "\n",
    "Constraints:\n",
    "```\n",
    "-231 <= val <= 231 - 1\n",
    "Methods pop, top and getMin operations will always be called on non-empty stacks.\n",
    "At most 3 * 104 calls will be made to push, pop, top, and getMin.\n",
    "```"
   ]
  },
  {
   "cell_type": "code",
   "execution_count": 8,
   "metadata": {},
   "outputs": [
    {
     "name": "stdout",
     "output_type": "stream",
     "text": [
      "None None None -3 None 0 -2\n"
     ]
    }
   ],
   "source": [
    "class MinStack:\n",
    "\n",
    "    def __init__(self):\n",
    "        self.stack = []\n",
    "        self.minstack = []\n",
    "        self.currmin = None\n",
    "\n",
    "    def push(self, val: int) -> None:\n",
    "        if self.currmin is None or val <= self.currmin:\n",
    "            self.minstack.append(val)\n",
    "            self.currmin = val\n",
    "        self.stack.append(val)\n",
    "\n",
    "    def pop(self) -> None:\n",
    "        if self.stack[-1] == self.minstack[-1]:\n",
    "            self.minstack.pop()\n",
    "            if self.minstack == []:\n",
    "                self.currmin = None\n",
    "            else:\n",
    "                self.currmin = self.minstack[-1]\n",
    "        self.stack.pop()\n",
    "        \n",
    "    def top(self) -> int:\n",
    "        return self.stack[-1]        \n",
    "\n",
    "    def getMin(self) -> int:\n",
    "        return self.minstack[-1]\n",
    "\n",
    "# Your MinStack object will be instantiated and called as such:\n",
    "minStack = MinStack()\n",
    "print(minStack.push(-2), \\\n",
    "minStack.push(0), \\\n",
    "minStack.push(-3), \\\n",
    "minStack.getMin(), \\\n",
    "minStack.pop(), \\\n",
    "minStack.top(), \\\n",
    "minStack.getMin())"
   ]
  },
  {
   "cell_type": "markdown",
   "metadata": {},
   "source": [
    "### 772. Basic Calculator III\n",
    "\n",
    "https://leetcode.com/problems/basic-calculator-iii/\n",
    "\n",
    "Implement a basic calculator to evaluate a simple expression string.\n",
    "\n",
    "The expression string contains only non-negative integers, '+', '-', '*', '/' operators, and open '(' and closing parentheses ')'. The integer division should truncate toward zero.\n",
    "\n",
    "You may assume that the given expression is always valid. All intermediate results will be in the range of [-231, 231 - 1].\n",
    "\n",
    "Note: You are not allowed to use any built-in function which evaluates strings as mathematical expressions, such as eval().\n",
    "\n",
    "\n",
    "Example 1:\n",
    " \n",
    "```\n",
    "Input: s = \"1+1\"\n",
    "Output: 2\n",
    "\n",
    "```\n",
    "\n",
    "Example 2:\n",
    "```\n",
    "Input: s = \"6-4/2\"\n",
    "Output: 4\n",
    " \n",
    "```\n",
    "\n",
    "Example 3:\n",
    " \n",
    "```\n",
    "Input: s = \"2*(5+5*2)/3+(6/2+8)\"\n",
    "Output: 21\n",
    " \n",
    "``` \n",
    "\n",
    "Constraints:\n",
    " \n",
    "```\n",
    "1 <= s <= 104\n",
    "s consists of digits, '+', '-', '*', '/', '(', and ')'.\n",
    "s is a valid expression.\n",
    " \n",
    "```"
   ]
  },
  {
   "cell_type": "code",
   "execution_count": 24,
   "metadata": {},
   "outputs": [],
   "source": [
    "def calculate(s: str) -> int:\n",
    "    queue = collections.deque(s.strip())\n",
    "    return helper(queue)\n",
    "\n",
    "def helper(q):\n",
    "    # store preliminary results in a stack\n",
    "    stack = []\n",
    "\n",
    "    # initialise num and sign\n",
    "    num = \"\"\n",
    "    sign = \"+\"\n",
    "\n",
    "    while q:\n",
    "        # FIFO\n",
    "        x = q.popleft()\n",
    "        # calculate nums in brackets first\n",
    "        if x == \"(\":\n",
    "            num = helper(q)\n",
    "        if x.isnumeric():\n",
    "            num += x\n",
    "        if not x.isnumeric() or not q:\n",
    "            if sign == \"+\":\n",
    "                stack.append(int(num or 0))\n",
    "            elif sign == \"-\":\n",
    "                stack.append(-1*int(num or 0))\n",
    "            elif sign == \"*\":\n",
    "                stack.append(stack.pop() * int(num))\n",
    "            elif sign == \"/\":\n",
    "                stack.append(int(stack.pop() / int(num)))\n",
    "            # clear num and sign\n",
    "            sign = x\n",
    "            num = \"\"\n",
    "        # break at the end of the calculation\n",
    "        if x == \")\":\n",
    "            break\n",
    "    return sum(stack)"
   ]
  },
  {
   "cell_type": "markdown",
   "metadata": {},
   "source": [
    "### 316. Remove Duplicate Letters\n",
    "\n",
    "https://leetcode.com/problems/remove-duplicate-letters/\n",
    "\n",
    "Given a string s, remove duplicate letters so that every letter appears once and only once. You must make sure your result is \n",
    "the smallest in lexicographical order\n",
    " among all possible results.\n",
    "\n",
    "Example 1:\n",
    "``` \n",
    "Input: s = \"bcabc\"\n",
    "Output: \"abc\"\n",
    "```\n",
    "\n",
    "Example 2:\n",
    "```\n",
    "Input: s = \"cbacdcbc\"\n",
    "Output: \"acdb\"\n",
    "```\n",
    "\n",
    "Constraints:\n",
    "```\n",
    "1 <= s.length <= 104\n",
    "s consists of lowercase English letters.\n",
    "```\n",
    "\n"
   ]
  },
  {
   "cell_type": "code",
   "execution_count": null,
   "metadata": {},
   "outputs": [],
   "source": [
    "def removeDuplicateLetters(s: str) -> str:\n",
    "    d = {char: idx for idx, char in enumerate(s)}\n",
    "    res = []\n",
    "    for idx, char in enumerate(s):\n",
    "        if char not in res:\n",
    "            while res and idx < d[res[-1]] and char < res[-1]:\n",
    "                res.pop()\n",
    "            res.append(char)\n",
    "    return \"\".join(res)"
   ]
  },
  {
   "cell_type": "code",
   "execution_count": 1,
   "metadata": {},
   "outputs": [
    {
     "name": "stdout",
     "output_type": "stream",
     "text": [
      "{'b': 3, 'c': 4, 'a': 2}\n"
     ]
    }
   ],
   "source": [
    "s = \"bcabc\"\n",
    "d = {char: idx for idx, char in enumerate(s)}\n",
    "print(d)"
   ]
  },
  {
   "cell_type": "markdown",
   "metadata": {},
   "source": []
  }
 ],
 "metadata": {
  "kernelspec": {
   "display_name": "algorithms",
   "language": "python",
   "name": "python3"
  },
  "language_info": {
   "codemirror_mode": {
    "name": "ipython",
    "version": 3
   },
   "file_extension": ".py",
   "mimetype": "text/x-python",
   "name": "python",
   "nbconvert_exporter": "python",
   "pygments_lexer": "ipython3",
   "version": "3.11.4"
  },
  "orig_nbformat": 4
 },
 "nbformat": 4,
 "nbformat_minor": 2
}
