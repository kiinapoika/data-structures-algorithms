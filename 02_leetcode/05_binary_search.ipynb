{
 "cells": [
  {
   "attachments": {},
   "cell_type": "markdown",
   "metadata": {},
   "source": [
    "# Binary Search"
   ]
  },
  {
   "cell_type": "code",
   "execution_count": 2,
   "metadata": {},
   "outputs": [],
   "source": [
    "from typing import List\n",
    "from IPython.display import Image"
   ]
  },
  {
   "attachments": {},
   "cell_type": "markdown",
   "metadata": {},
   "source": [
    "### 704. Binary Search\n",
    "\n",
    "Given an array of integers nums which is sorted in ascending order, and an integer target, write a function to search target in nums. If target exists, then return its index. Otherwise, return -1.\n",
    "\n",
    "You must write an algorithm with O(log n) runtime complexity.\n",
    "\n",
    " \n",
    "\n",
    "Example 1:\n",
    "```\n",
    "Input: nums = [-1,0,3,5,9,12], target = 9\n",
    "Output: 4\n",
    "Explanation: 9 exists in nums and its index is 4\n",
    "```\n",
    "Example 2:\n",
    "```\n",
    "Input: nums = [-1,0,3,5,9,12], target = 2\n",
    "Output: -1\n",
    "Explanation: 2 does not exist in nums so return -1\n",
    "```\n",
    " \n",
    "\n",
    "Constraints:\n",
    "```\n",
    "1 <= nums.length <= 104\n",
    "-104 < nums[i], target < 104\n",
    "All the integers in nums are unique.\n",
    "nums is sorted in ascending order.\n",
    "```"
   ]
  },
  {
   "cell_type": "code",
   "execution_count": 6,
   "metadata": {},
   "outputs": [
    {
     "data": {
      "text/plain": [
       "4"
      ]
     },
     "execution_count": 6,
     "metadata": {},
     "output_type": "execute_result"
    }
   ],
   "source": [
    "def search(nums: List[int], target: int) -> int:\n",
    "   left, right = 0, len(nums)-1\n",
    "\n",
    "   while left<right:\n",
    "      mid = (left+right)//2\n",
    "\n",
    "      if nums[mid] > target:\n",
    "         right = mid-1\n",
    "\n",
    "      elif nums[mid] < target:\n",
    "         left = mid+1\n",
    "\n",
    "      else:\n",
    "         return mid\n",
    "\n",
    "   return -1\n",
    "\n",
    "nums = [-1,0,3,5,9,12]\n",
    "target = 9   \n",
    "search(nums, target)"
   ]
  },
  {
   "attachments": {},
   "cell_type": "markdown",
   "metadata": {},
   "source": [
    "### 74. Search a 2D Matrix\n",
    "\n",
    "You are given an m x n integer matrix matrix with the following two properties:\n",
    "\n",
    "Each row is sorted in non-decreasing order.\n",
    "The first integer of each row is greater than the last integer of the previous row.\n",
    "Given an integer target, return true if target is in matrix or false otherwise.\n",
    "\n",
    "You must write a solution in O(log(m * n)) time complexity.\n",
    "\n",
    " \n",
    "\n",
    "Example 1:\n",
    "\n",
    "![question_74_1.jpg](img/question_74_1.jpg)\n",
    "```\n",
    "Input: matrix = [[1,3,5,7],[10,11,16,20],[23,30,34,60]], target = 3\n",
    "Output: true\n",
    "```\n",
    "\n",
    "Example 2:\n",
    "\n",
    "![question_74_2.jpg](img/question_74_2.jpg)\n",
    "```\n",
    "Input: matrix = [[1,3,5,7],[10,11,16,20],[23,30,34,60]], target = 13\n",
    "Output: false\n",
    "```\n",
    "\n",
    " \n",
    "Constraints:\n",
    "```\n",
    "m == matrix.length\n",
    "n == matrix[i].length\n",
    "1 <= m, n <= 100\n",
    "-104 <= matrix[i][j], target <= 104\n",
    "```\n"
   ]
  },
  {
   "cell_type": "code",
   "execution_count": 9,
   "metadata": {},
   "outputs": [
    {
     "data": {
      "text/plain": [
       "True"
      ]
     },
     "execution_count": 9,
     "metadata": {},
     "output_type": "execute_result"
    }
   ],
   "source": [
    "def searchMatrix(matrix: List[List[int]], target: int) -> bool:\n",
    "    m = len(matrix)\n",
    "    n = len(matrix[0])\n",
    "    l = 0\n",
    "    r = m * n\n",
    "    if r == 0: return False\n",
    "    if r == 1: return matrix[0][0] == target\n",
    "\n",
    "    mid = (l + r) // 2\n",
    "    while l < r:\n",
    "        mid = (l + r) // 2\n",
    "        if matrix[mid // n][mid % n] == target: return True\n",
    "        elif matrix[mid // n][mid % n] < target: l = mid + 1\n",
    "        else: r = mid\n",
    "    return False\n",
    "\n",
    "matrix = [[1,3,5,7],[10,11,16,20],[23,30,34,60]]\n",
    "target = 3\n",
    " \n",
    "searchMatrix(matrix, target)"
   ]
  }
 ],
 "metadata": {
  "kernelspec": {
   "display_name": "algorithms",
   "language": "python",
   "name": "python3"
  },
  "language_info": {
   "codemirror_mode": {
    "name": "ipython",
    "version": 3
   },
   "file_extension": ".py",
   "mimetype": "text/x-python",
   "name": "python",
   "nbconvert_exporter": "python",
   "pygments_lexer": "ipython3",
   "version": "3.11.2"
  },
  "orig_nbformat": 4
 },
 "nbformat": 4,
 "nbformat_minor": 2
}
