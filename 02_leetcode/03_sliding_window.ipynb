{
 "cells": [
  {
   "attachments": {},
   "cell_type": "markdown",
   "metadata": {},
   "source": [
    "# Sliding Window"
   ]
  },
  {
   "cell_type": "code",
   "execution_count": 2,
   "metadata": {},
   "outputs": [],
   "source": [
    "from typing import List\n",
    "from IPython.display import Image"
   ]
  },
  {
   "attachments": {},
   "cell_type": "markdown",
   "metadata": {},
   "source": [
    "### 121. Best Time to Buy and Sell Stock\n",
    "You are given an array prices where prices[i] is the price of a given stock on the ith day.\n",
    "\n",
    "You want to maximize your profit by choosing a single day to buy one stock and choosing a different day in the future to sell that stock.\n",
    "\n",
    "Return the maximum profit you can achieve from this transaction. If you cannot achieve any profit, return 0.\n",
    "\n",
    " \n",
    "\n",
    "Example 1:\n",
    "```\n",
    "Input: prices = [7,1,5,3,6,4]\n",
    "Output: 5\n",
    "Explanation: Buy on day 2 (price = 1) and sell on day 5 (price = 6), profit = 6-1 = 5.\n",
    "Note that buying on day 2 and selling on day 1 is not allowed because you must buy before you sell.\n",
    "```\n",
    "Example 2:\n",
    "```\n",
    "Input: prices = [7,6,4,3,1]\n",
    "Output: 0\n",
    "Explanation: In this case, no transactions are done and the max profit = 0.\n",
    "```\n",
    "\n",
    "Constraints:\n",
    "```\n",
    "1 <= prices.length <= 105\n",
    "0 <= prices[i] <= 104\n",
    "```"
   ]
  },
  {
   "cell_type": "code",
   "execution_count": 3,
   "metadata": {},
   "outputs": [
    {
     "data": {
      "text/plain": [
       "5"
      ]
     },
     "execution_count": 3,
     "metadata": {},
     "output_type": "execute_result"
    }
   ],
   "source": [
    "def maxProfit(prices: List[int]):\n",
    "    n = len(prices)\n",
    "\n",
    "    # initialise two pointers, left = buy, right = sell\n",
    "    left, right = 0, 1\n",
    "\n",
    "    # default profit\n",
    "    max_profit = 0\n",
    "\n",
    "    while right < n:\n",
    "        # if profitable, calculate the current profit\n",
    "        if prices[right] > prices[left]:\n",
    "            curr_profit = prices[right] - prices[left]\n",
    "            max_profit = max(max_profit, curr_profit)\n",
    "\n",
    "        # if not profitable, update left to right pointer\n",
    "        else:\n",
    "            left = right\n",
    "        \n",
    "        # increment right pointer by 1\n",
    "        right+=1\n",
    "\n",
    "    return max_profit\n",
    "\n",
    "prices = [7,1,5,3,6,4]\n",
    "maxProfit(prices)"
   ]
  },
  {
   "attachments": {},
   "cell_type": "markdown",
   "metadata": {},
   "source": [
    "### 3. Longest Substring Without Repeating Characters\n",
    "\n",
    "Given a string s, find the length of the longest substring without repeating characters.\n",
    "\n",
    " \n",
    "\n",
    "Example 1:\n",
    "```\n",
    "Input: s = \"abcabcbb\"\n",
    "Output: 3\n",
    "Explanation: The answer is \"abc\", with the length of 3.\n",
    "```\n",
    "Example 2:\n",
    "```\n",
    "Input: s = \"bbbbb\"\n",
    "Output: 1\n",
    "Explanation: The answer is \"b\", with the length of 1.\n",
    "```\n",
    "Example 3:\n",
    "```\n",
    "Input: s = \"pwwkew\"\n",
    "Output: 3\n",
    "Explanation: The answer is \"wke\", with the length of 3.\n",
    "Notice that the answer must be a substring, \"pwke\" is a subsequence and not a substring.\n",
    "```\n",
    "\n",
    "Constraints:\n",
    "```\n",
    "0 <= s.length <= 5 * 104\n",
    "s consists of English letters, digits, symbols and spaces.\n",
    "```"
   ]
  },
  {
   "cell_type": "code",
   "execution_count": 4,
   "metadata": {},
   "outputs": [
    {
     "data": {
      "text/plain": [
       "3"
      ]
     },
     "execution_count": 4,
     "metadata": {},
     "output_type": "execute_result"
    }
   ],
   "source": [
    "def lengthOfLongestSubstring(s: str):\n",
    "    # keep a char set\n",
    "    charset = set()\n",
    "    res = 0\n",
    "\n",
    "    # initiate left and right pointer whereas left starts at index 0 and is removed by each operation\n",
    "    left =  0\n",
    "\n",
    "    # right pointer goes through every char in the string\n",
    "    for right in range(len(s)):\n",
    "        # update the window and charset when duplicate is found\n",
    "        while s[right] in charset:\n",
    "            charset.remove(s[left])\n",
    "            left+=1\n",
    "        # add the new char into the charset\n",
    "        charset.add(s[right])\n",
    "\n",
    "        # update the max length of the substring\n",
    "        res = max(res, right - left + 1)\n",
    "\n",
    "    return res\n",
    "\n",
    "s = \"pwwkew\"\n",
    "lengthOfLongestSubstring(s)\n",
    " "
   ]
  },
  {
   "cell_type": "code",
   "execution_count": null,
   "metadata": {},
   "outputs": [],
   "source": [
    "# alternative solution\n",
    "def lengthOfLongestSubstring(s: str):\n",
    "        # key: character, value: last index it was seen at\n",
    "        char_map = {}\n",
    "        left = 0\n",
    "        longest_substring_len = 0\n",
    "\n",
    "        for right, char in enumerate(s):\n",
    "            if char in char_map and char_map[char] >= left:\n",
    "                left = char_map[char] + 1  # shorten left side of sliding window to past the character\n",
    "            char_map[char] = right\n",
    "\n",
    "            current_len = right - left + 1\n",
    "            if current_len > longest_substring_len:\n",
    "                longest_substring_len = current_len\n",
    "        return longest_substring_len"
   ]
  },
  {
   "attachments": {},
   "cell_type": "markdown",
   "metadata": {},
   "source": [
    "### 424. Longest Repeating Character Replacement\n",
    "\n",
    "You are given a string s and an integer k. You can choose any character of the string and change it to any other uppercase English character. You can perform this operation at most k times.\n",
    "\n",
    "Return the length of the longest substring containing the same letter you can get after performing the above operations.\n",
    "\n",
    " \n",
    "\n",
    "Example 1:\n",
    "```\n",
    "Input: s = \"ABAB\", k = 2\n",
    "Output: 4\n",
    "Explanation: Replace the two 'A's with two 'B's or vice versa.\n",
    "```\n",
    "Example 2:\n",
    "```\n",
    "Input: s = \"AABABBA\", k = 1\n",
    "Output: 4\n",
    "Explanation: Replace the one 'A' in the middle with 'B' and form \"AABBBBA\".\n",
    "The substring \"BBBB\" has the longest repeating letters, which is 4.\n",
    "There may exists other ways to achive this answer too.\n",
    "```\n",
    "\n",
    "Constraints:\n",
    "```\n",
    "1 <= s.length <= 105\n",
    "s consists of only uppercase English letters.\n",
    "0 <= k <= s.length\n",
    "```"
   ]
  },
  {
   "cell_type": "code",
   "execution_count": 5,
   "metadata": {},
   "outputs": [
    {
     "data": {
      "text/plain": [
       "4"
      ]
     },
     "execution_count": 5,
     "metadata": {},
     "output_type": "execute_result"
    }
   ],
   "source": [
    "def characterReplacement(s: str, k: int):\n",
    "    start = 0\n",
    "    frequency_map = {}\n",
    "    max_frequency = 0\n",
    "    longest_substring_length = 0\n",
    "    for end in range(len(s)):\n",
    "        frequency_map[s[end]] = frequency_map.get(s[end], 0) + 1\n",
    "\n",
    "        # the maximum frequency we have seen in any window yet\n",
    "        max_frequency = max(max_frequency, frequency_map[s[end]])\n",
    "\n",
    "        # move the start pointer towards right if the current\n",
    "        # window is invalid\n",
    "        is_valid = (end + 1 - start - max_frequency <= k)\n",
    "        if not is_valid:\n",
    "            frequency_map[s[start]] -= 1\n",
    "            start += 1\n",
    "\n",
    "        # the window is valid at this point, store length\n",
    "        # size of the window never decreases\n",
    "        longest_substring_length = end + 1 - start\n",
    "\n",
    "    return longest_substring_length\n",
    "\n",
    "s = \"AABABBA\"\n",
    "k = 1\n",
    "characterReplacement(s, k)"
   ]
  },
  {
   "attachments": {},
   "cell_type": "markdown",
   "metadata": {},
   "source": [
    "### 567. Permutation in String\n",
    "Given two strings s1 and s2, return true if s2 contains a permutation of s1, or false otherwise.\n",
    "\n",
    "In other words, return true if one of s1's permutations is the substring of s2.\n",
    "\n",
    " \n",
    "\n",
    "Example 1:\n",
    "```\n",
    "Input: s1 = \"ab\", s2 = \"eidbaooo\"\n",
    "Output: true\n",
    "Explanation: s2 contains one permutation of s1 (\"ba\").\n",
    "```\n",
    "Example 2:\n",
    "```\n",
    "Input: s1 = \"ab\", s2 = \"eidboaoo\"\n",
    "Output: false\n",
    "```\n",
    "\n",
    "Constraints:\n",
    "```\n",
    "1 <= s1.length, s2.length <= 104\n",
    "s1 and s2 consist of lowercase English letters.\n",
    "```"
   ]
  },
  {
   "cell_type": "code",
   "execution_count": 9,
   "metadata": {},
   "outputs": [
    {
     "data": {
      "text/plain": [
       "True"
      ]
     },
     "execution_count": 9,
     "metadata": {},
     "output_type": "execute_result"
    }
   ],
   "source": [
    "\n",
    "def checkInclusion(s1: str, s2: str):\n",
    "    # edge case\n",
    "    if len(s1) > len(s2):\n",
    "        return False\n",
    "\n",
    "    # base case\n",
    "    if s1 == s2:\n",
    "        return True   \n",
    "\n",
    "    left = 0\n",
    "    right = len(s1)-1\n",
    "    d = dict((char, s1.count(char)) for char in set(s1))\n",
    "    while right < len(s2):\n",
    "        window = dict((char, s2[left:right+1].count(char)) for char in set(s2[left:right+1]))\n",
    "        if window != d:\n",
    "            left+=1\n",
    "            right+=1\n",
    "            \n",
    "        else:\n",
    "            return True\n",
    "    \n",
    "    return False\n",
    "\n",
    "s1 = \"ba\"\n",
    "s2 = \"eidbaooo\"\n",
    "\n",
    "checkInclusion(s1, s2)"
   ]
  }
 ],
 "metadata": {
  "kernelspec": {
   "display_name": "algorithms",
   "language": "python",
   "name": "python3"
  },
  "language_info": {
   "codemirror_mode": {
    "name": "ipython",
    "version": 3
   },
   "file_extension": ".py",
   "mimetype": "text/x-python",
   "name": "python",
   "nbconvert_exporter": "python",
   "pygments_lexer": "ipython3",
   "version": "3.11.2"
  },
  "orig_nbformat": 4
 },
 "nbformat": 4,
 "nbformat_minor": 2
}
