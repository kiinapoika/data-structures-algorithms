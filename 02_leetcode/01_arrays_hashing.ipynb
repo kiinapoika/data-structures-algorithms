{
 "cells": [
  {
   "attachments": {},
   "cell_type": "markdown",
   "metadata": {},
   "source": [
    "# Arrays & Hashing"
   ]
  },
  {
   "attachments": {},
   "cell_type": "markdown",
   "metadata": {},
   "source": [
    "### Theoretical concept\n",
    "- Programming language keeps track of the association between an identifier and the memory address\n",
    "- A group of related variables can be stored one after another in a contiguous portion of the computer's memory.\n",
    "- A text string is stored as an ordered sequence of individual characters.\n",
    "- Python internally represents each Unicode character with 16 bits (i.e. 2 bytes)\n",
    "- Array allows any cell to be accessed in constant time O(1)\n",
    "- We can use an array of object references (e.g. a list of `names`) where each element is a reference to the object (`name`)\n",
    "- Objects can be referenced by multiple indices (duplicated values)\n",
    "- Copying (shallow) an array produces a new array in which it references the same elements as in the original array\n",
    "\n"
   ]
  },
  {
   "cell_type": "code",
   "execution_count": 1,
   "metadata": {},
   "outputs": [],
   "source": [
    "from typing import List\n",
    "import collections\n",
    "import heapq"
   ]
  },
  {
   "attachments": {},
   "cell_type": "markdown",
   "metadata": {},
   "source": [
    "### 242. Valid Anagram\n",
    "\n",
    "https://leetcode.com/problems/valid-anagram/\n",
    "\n",
    "Given two strings s and t, return true if t is an anagram of s, and false otherwise.\n",
    "\n",
    "An Anagram is a word or phrase formed by rearranging the letters of a different word or phrase, typically using all the original letters exactly once.\n",
    "\n",
    "\n",
    "Example 1:\n",
    "```\n",
    "Input: s = \"anagram\", t = \"nagaram\"\n",
    "Output: true\n",
    "```\n",
    "Example 2:\n",
    "```\n",
    "Input: s = \"rat\", t = \"car\"\n",
    "Output: false\n",
    "```\n",
    "\n",
    "Constraints:\n",
    "```\n",
    "1 <= s.length, t.length <= 5 * 104\n",
    "s and t consist of lowercase English letters.\n",
    "```\n",
    "\n",
    "\n",
    "Time complexity:\n",
    "```\n",
    "O(n) where n is the max length of s or t\n",
    "```\n",
    "\n",
    "Space complexity:\n",
    "```\n",
    "O(n)\n",
    "```"
   ]
  },
  {
   "cell_type": "code",
   "execution_count": 4,
   "metadata": {},
   "outputs": [
    {
     "data": {
      "text/plain": [
       "True"
      ]
     },
     "execution_count": 4,
     "metadata": {},
     "output_type": "execute_result"
    }
   ],
   "source": [
    "def isAnagram(s1: str, s2: str):\n",
    "    import collections\n",
    "    s1 = s1.replace(r'\\w', '').lower()\n",
    "    s2 = s2.replace(r'\\w', '').lower()\n",
    "\n",
    "    # edge case\n",
    "    if len(s1) != len(s2):\n",
    "        return False\n",
    "\n",
    "    counter = collections.Counter()\n",
    "\n",
    "    for i in s1:\n",
    "        if i in counter:\n",
    "            counter[i] += 1\n",
    "\n",
    "        else:\n",
    "            counter[i] = 1\n",
    "\n",
    "    for j in s2:\n",
    "        if j in counter:\n",
    "            counter[j] -= 1\n",
    "\n",
    "        else:\n",
    "            counter[j] = 1  \n",
    "\n",
    "    for k in counter:\n",
    "        if counter[k] != 0:\n",
    "            return False\n",
    "\n",
    "    return True\n",
    "    \n",
    "s = \"anagram\"\n",
    "t = \"nagaram\"\n",
    "isAnagram(s, t)"
   ]
  },
  {
   "cell_type": "code",
   "execution_count": 7,
   "metadata": {},
   "outputs": [
    {
     "data": {
      "text/plain": [
       "3"
      ]
     },
     "execution_count": 7,
     "metadata": {},
     "output_type": "execute_result"
    }
   ],
   "source": [
    "s.count(\"a\")"
   ]
  },
  {
   "cell_type": "code",
   "execution_count": 13,
   "metadata": {},
   "outputs": [
    {
     "data": {
      "text/plain": [
       "[[1, 5, 9], [2, 6, 10], [3, 7, 11], [4, 8, 12]]"
      ]
     },
     "execution_count": 13,
     "metadata": {},
     "output_type": "execute_result"
    }
   ],
   "source": [
    "matrix = [\n",
    "    [1, 2, 3, 4],\n",
    "    [5, 6, 7, 8],\n",
    "    [9, 10, 11, 12],\n",
    "]\n",
    "\n",
    "transposed = []\n",
    "\n",
    "for i in range(len(matrix[0])):\n",
    "    transposed.append([row[i] for row in matrix])\n",
    "\n",
    "transposed"
   ]
  },
  {
   "attachments": {},
   "cell_type": "markdown",
   "metadata": {},
   "source": [
    "### 1. Two Sum\n",
    "\n",
    "https://leetcode.com/problems/two-sum/\n",
    "\n",
    "Given an array of integers `nums` and an integer `target`, return indices of the two numbers such that they add up to `target`.\n",
    "\n",
    "You may assume that each input would have exactly one solution, and you may not use the same element twice.\n",
    "\n",
    "You can return the answer in any order. \n",
    "\n",
    "Example 1:\n",
    "```\n",
    "Input: nums = [2,7,11,15], target = 9\n",
    "Output: [0,1]\n",
    "Explanation: Because nums[0] + nums[1] == 9, we return [0, 1].\n",
    "```\n",
    "Example 2:\n",
    "```\n",
    "Input: nums = [3,2,4], target = 6\n",
    "Output: [1,2]\n",
    "```\n",
    "Example 3:\n",
    "```\n",
    "Input: nums = [3,3], target = 6\n",
    "Output: [0,1]\n",
    "```\n",
    "\n",
    "Constraints:\n",
    "```\n",
    "2 <= nums.length <= 104\n",
    "-109 <= nums[i] <= 109\n",
    "-109 <= target <= 109\n",
    "```\n",
    "Only one valid answer exists.\n",
    "\n",
    "Time complexity:\n",
    "```\n",
    "O(n) where n is the length of `nums`\n",
    "```\n",
    "\n",
    "Space complexity:\n",
    "```\n",
    "O(n)\n",
    "```"
   ]
  },
  {
   "cell_type": "code",
   "execution_count": 14,
   "metadata": {},
   "outputs": [
    {
     "data": {
      "text/plain": [
       "[1, 0]"
      ]
     },
     "execution_count": 14,
     "metadata": {},
     "output_type": "execute_result"
    }
   ],
   "source": [
    "def pair_sum(nums: List[int], target: int):\n",
    "    import collections\n",
    "\n",
    "    # edge case\n",
    "    if len(nums) < 2:\n",
    "        return    \n",
    " \n",
    "    n = len(nums)\n",
    "    counter = collections.Counter()\n",
    "\n",
    "    # base case\n",
    "    if n == 2:\n",
    "        return range(n)\n",
    "\n",
    "    for i, num in enumerate(nums):\n",
    "        x = target - num\n",
    "        if x in counter:\n",
    "            return [i, counter[x]]\n",
    "        counter[num] = i\n",
    "    \n",
    "nums = [1,3,2,2]\n",
    "target = 4\n",
    "\n",
    "pair_sum(nums, target)\n"
   ]
  },
  {
   "attachments": {},
   "cell_type": "markdown",
   "metadata": {},
   "source": [
    "### Find the missing element\n",
    "Consider an array of non-negative integers, a second array is formed by shuffling the first array and deleting a random element. Find which element is missing in the second array."
   ]
  },
  {
   "cell_type": "code",
   "execution_count": 15,
   "metadata": {},
   "outputs": [
    {
     "data": {
      "text/plain": [
       "2"
      ]
     },
     "execution_count": 15,
     "metadata": {},
     "output_type": "execute_result"
    }
   ],
   "source": [
    "def find_missing_element(arr1: List, arr2: List):\n",
    "    # base case\n",
    "    if len(arr1) == 1:\n",
    "        return arr1[-1]\n",
    "\n",
    "    counter = {}\n",
    "\n",
    "    for i, num in enumerate(arr1):\n",
    "        if num in counter:\n",
    "            counter[num] +=1\n",
    "        else:\n",
    "            counter[num] = 1\n",
    "\n",
    "    for j, num in enumerate(arr2):\n",
    "        if num in counter:\n",
    "            counter[num] -=1\n",
    "        else:\n",
    "            counter[num] = 1\n",
    "\n",
    "    for k in counter:\n",
    "        if counter[k] != 0:\n",
    "            return k    \n",
    "\n",
    "find_missing_element([1, 2, 3, 4, 5], [1, 3, 4, 5])"
   ]
  },
  {
   "attachments": {},
   "cell_type": "markdown",
   "metadata": {},
   "source": [
    "### 53. Maximum Subarray\n",
    "\n",
    "https://leetcode.com/problems/maximum-subarray/\n",
    "\n",
    "Given an integer array nums, find the subarray with the largest sum, and return its sum.\n",
    "\n",
    "Example 1:\n",
    "```\n",
    "Input: nums = [-2,1,-3,4,-1,2,1,-5,4]\n",
    "Output: 6\n",
    "Explanation: The subarray [4,-1,2,1] has the largest sum 6.\n",
    "```\n",
    "\n",
    "\n",
    "Example 2:\n",
    "```\n",
    "Input: nums = [1]\n",
    "Output: 1\n",
    "Explanation: The subarray [1] has the largest sum 1.\n",
    "```\n",
    "\n",
    "\n",
    "Example 3:\n",
    "```\n",
    "Input: nums = [5,4,-1,7,8]\n",
    "Output: 23\n",
    "Explanation: The subarray [5,4,-1,7,8] has the largest sum 23.\n",
    "```\n",
    "\n",
    "Constraints:\n",
    "```\n",
    "1 <= nums.length <= 105\n",
    "-104 <= nums[i] <= 104\n",
    "```"
   ]
  },
  {
   "cell_type": "code",
   "execution_count": 16,
   "metadata": {},
   "outputs": [
    {
     "data": {
      "text/plain": [
       "9"
      ]
     },
     "execution_count": 16,
     "metadata": {},
     "output_type": "execute_result"
    }
   ],
   "source": [
    "def largest_cont_sum(nums: List[int]):\n",
    "\n",
    "    # edge case\n",
    "    if len(nums) == 0:\n",
    "        return 0\n",
    "\n",
    "    max_sum = current_sum = nums[0]\n",
    "\n",
    "    for num in nums[1:]:\n",
    "        current_sum += num\n",
    "        \n",
    "        # update current sum if the num is greater than current sum\n",
    "        if num>current_sum:\n",
    "            current_sum = num\n",
    "\n",
    "        # update max sum if current_sum is greater than current max sum\n",
    "        if current_sum>max_sum:\n",
    "            max_sum = current_sum\n",
    "\n",
    "    return max_sum\n",
    "\n",
    "largest_cont_sum([1, 2, -1, 4, 3, -5, 2])"
   ]
  },
  {
   "attachments": {},
   "cell_type": "markdown",
   "metadata": {},
   "source": [
    "### Reverse sentence\n",
    "Given a string of words, reverse all the words also remove all leading and trailing whitespace\n",
    "\n",
    "Example:\n",
    "```\n",
    "Input:\n",
    "'       This is the best       '\n",
    "\n",
    "Output:\n",
    "'best the is This'\n",
    "```\n",
    "\n",
    "Time complexity:\n",
    "```\n",
    "O(n) where n is the length `s`\n",
    "```\n",
    "\n",
    "Space complexity:\n",
    "```\n",
    "O(n)\n",
    "```"
   ]
  },
  {
   "cell_type": "code",
   "execution_count": 17,
   "metadata": {},
   "outputs": [
    {
     "data": {
      "text/plain": [
       "'best the is This'"
      ]
     },
     "execution_count": 17,
     "metadata": {},
     "output_type": "execute_result"
    }
   ],
   "source": [
    "def reverse_sentence(s: str):\n",
    "    s = s.strip().split()\n",
    "    left, right = 0, len(s)-1\n",
    "\n",
    "    while left<right:\n",
    "        s[left], s[right] = s[right], s[left]\n",
    "        left+=1\n",
    "        right-=1\n",
    "\n",
    "    return \" \".join(s) \n",
    "    # return s\n",
    "\n",
    "s = '       This is the best       '\n",
    "\n",
    "reverse_sentence(s)"
   ]
  },
  {
   "attachments": {},
   "cell_type": "markdown",
   "metadata": {},
   "source": [
    "### 443. String compression\n",
    "https://leetcode.com/problems/string-compression/\n",
    "\n",
    "Given an array of characters chars, compress it using the following algorithm:\n",
    "\n",
    "Begin with an empty string s. For each group of consecutive repeating characters in chars:\n",
    "\n",
    "If the group's length is 1, append the character to s.\n",
    "Otherwise, append the character followed by the group's length.\n",
    "The compressed string s should not be returned separately, but instead, be stored in the input character array chars. Note that group lengths that are 10 or longer will be split into multiple characters in chars.\n",
    "\n",
    "After you are done modifying the input array, return the new length of the array.\n",
    "\n",
    "You must write an algorithm that uses only constant extra space.\n",
    "\n",
    "\n",
    "Example 1:\n",
    "```\n",
    "Input: chars = [\"a\",\"a\",\"b\",\"b\",\"c\",\"c\",\"c\"]\n",
    "Output: Return 6, and the first 6 characters of the input array should be: [\"a\",\"2\",\"b\",\"2\",\"c\",\"3\"]\n",
    "Explanation: The groups are \"aa\", \"bb\", and \"ccc\". This compresses to \"a2b2c3\".\n",
    "```\n",
    "Example 2:\n",
    "```\n",
    "Input: chars = [\"a\"]\n",
    "Output: Return 1, and the first character of the input array should be: [\"a\"]\n",
    "Explanation: The only group is \"a\", which remains uncompressed since it's a single character.\n",
    "```\n",
    "Example 3:\n",
    "```\n",
    "Input: chars = [\"a\",\"b\",\"b\",\"b\",\"b\",\"b\",\"b\",\"b\",\"b\",\"b\",\"b\",\"b\",\"b\"]\n",
    "Output: Return 4, and the first 4 characters of the input array should be: [\"a\",\"b\",\"1\",\"2\"].\n",
    "Explanation: The groups are \"a\" and \"bbbbbbbbbbbb\". This compresses to \"ab12\".\n",
    "```\n",
    "\n",
    "Constraints:\n",
    "```\n",
    "1 <= chars.length <= 2000\n",
    "chars[i] is a lowercase English letter, uppercase English letter, digit, or symbol.\n",
    "```\n",
    "\n",
    "Time complexity:\n",
    "```\n",
    "O(n) where n is the length of `chars`\n",
    "```\n",
    "\n",
    "Space complexity:\n",
    "```\n",
    "O(n)\n",
    "```"
   ]
  },
  {
   "cell_type": "code",
   "execution_count": 18,
   "metadata": {},
   "outputs": [
    {
     "data": {
      "text/plain": [
       "4"
      ]
     },
     "execution_count": 18,
     "metadata": {},
     "output_type": "execute_result"
    }
   ],
   "source": [
    "def compress(chars: List[str]):\n",
    "\n",
    "    res = []\n",
    "    rcount = 1\n",
    "\n",
    "    # iterate through two sets of chars with one char offset\n",
    "    for prev, cur in zip(chars, chars[1:] + ['']):\n",
    "\n",
    "        # if char is repeated, add 1 to rcount\n",
    "        if prev == cur:\n",
    "            rcount += 1\n",
    "            continue\n",
    "\n",
    "        # extend res list by adding prev and rcount if rcount is greater than 1 else []\n",
    "        res.extend([prev] + (list(str(rcount)) if rcount > 1 else []))\n",
    "\n",
    "        # reset rcount to 1 for the next char\n",
    "        rcount = 1\n",
    "    \n",
    "    # compress in place\n",
    "    chars[:] = res\n",
    "\n",
    "    # return length of compressed chars\n",
    "    return len(chars)\n",
    "\n",
    "chars = [\"a\",\"b\",\"b\",\"b\",\"b\",\"b\",\"b\",\"b\",\"b\",\"b\",\"b\",\"b\",\"b\"]\n",
    "compress(chars)"
   ]
  },
  {
   "attachments": {},
   "cell_type": "markdown",
   "metadata": {},
   "source": [
    "### 387. First unique character in string\n",
    "https://leetcode.com/problems/first-unique-character-in-a-string/\n",
    "\n",
    "Given a string `s`, find the first non-repeating character in it and return its index. If it does not exist, return `-1`.\n",
    "\n",
    "Time complexity:\n",
    "```\n",
    "O(n) where n is the length of `chars`\n",
    "```\n",
    "\n",
    "Space complexity:\n",
    "```\n",
    "O(n)"
   ]
  },
  {
   "cell_type": "code",
   "execution_count": 20,
   "metadata": {},
   "outputs": [
    {
     "data": {
      "text/plain": [
       "7"
      ]
     },
     "execution_count": 20,
     "metadata": {},
     "output_type": "execute_result"
    }
   ],
   "source": [
    "import collections\n",
    "\n",
    "def unique_char(chars: str):\n",
    "\n",
    "    if len(s) == 1:\n",
    "        return 0\n",
    "\n",
    "    counter = collections.Counter(s)\n",
    "    for i, char in enumerate(s):\n",
    "        if counter[char] == 1:\n",
    "            return i\n",
    "\n",
    "    return -1\n",
    "\n",
    "\n",
    "unique_char(\"aassssw\")"
   ]
  },
  {
   "attachments": {},
   "cell_type": "markdown",
   "metadata": {},
   "source": [
    "### 217. Contains Duplicate\n",
    "\n",
    "https://leetcode.com/problems/contains-duplicate/\n",
    "\n",
    "Given an integer array nums, return true if any value appears at least twice in the array, and return false if every element is distinct.\n",
    "\n",
    "\n",
    "Example 1:\n",
    "```\n",
    "Input: nums = [1,2,3,1]\n",
    "Output: true\n",
    "```\n",
    "Example 2:\n",
    "```\n",
    "Input: nums = [1,2,3,4]\n",
    "Output: false\n",
    "```\n",
    "Example 3:\n",
    "```\n",
    "Input: nums = [1,1,1,3,3,4,3,2,4,2]\n",
    "Output: true\n",
    "```\n",
    "\n",
    "Constraints:\n",
    "```\n",
    "1 <= nums.length <= 105\n",
    "-109 <= nums[i] <= 109\n",
    "```\n",
    "\n",
    "Time complexity:\n",
    "```\n",
    "O(n) where n is the length of `nums`\n",
    "```\n",
    "\n",
    "Space complexity:\n",
    "```\n",
    "O(n)"
   ]
  },
  {
   "cell_type": "code",
   "execution_count": null,
   "metadata": {},
   "outputs": [],
   "source": [
    "def containsDuplicate(nums: List[int]):\n",
    "        \n",
    "    stored = {}\n",
    "\n",
    "    for num in nums:\n",
    "        if num in stored:\n",
    "            return True\n",
    "\n",
    "        else:\n",
    "            stored[num] = True\n",
    "        \n",
    "    return False\n"
   ]
  },
  {
   "attachments": {},
   "cell_type": "markdown",
   "metadata": {},
   "source": [
    "### 49. Group Anagrams\n",
    "\n",
    "https://leetcode.com/problems/group-anagrams/\n",
    "\n",
    "Given an array of strings `strs`, group the anagrams together. You can return the answer in any order.\n",
    "\n",
    "An Anagram is a word or phrase formed by rearranging the letters of a different word or phrase, typically using all the original letters exactly once.\n",
    "\n",
    " \n",
    "\n",
    "Example 1:\n",
    "```\n",
    "Input: strs = [\"eat\",\"tea\",\"tan\",\"ate\",\"nat\",\"bat\"]\n",
    "Output: [[\"bat\"],[\"nat\",\"tan\"],[\"ate\",\"eat\",\"tea\"]]\n",
    "```\n",
    "Example 2:\n",
    "```\n",
    "Input: strs = [\"\"]\n",
    "Output: [[\"\"]]\n",
    "```\n",
    "Example 3:\n",
    "```\n",
    "Input: strs = [\"a\"]\n",
    "Output: [[\"a\"]]\n",
    "```\n",
    "\n",
    "Constraints:\n",
    "```\n",
    "1 <= strs.length <= 104\n",
    "0 <= strs[i].length <= 100\n",
    "strs[i] consists of lowercase English letters.\n",
    "```\n",
    "\n",
    "Time complexity:\n",
    "```\n",
    "O(m*n) where n is the length of `strs` and m is the max length of words\n",
    "```\n",
    "\n",
    "Space complexity:\n",
    "```\n",
    "O(n)\n",
    "```"
   ]
  },
  {
   "cell_type": "code",
   "execution_count": 22,
   "metadata": {},
   "outputs": [
    {
     "data": {
      "text/plain": [
       "[['eat', 'tea', 'ate'], ['tan', 'nat'], ['bat']]"
      ]
     },
     "execution_count": 22,
     "metadata": {},
     "output_type": "execute_result"
    }
   ],
   "source": [
    "def groupAnagrams(strs: List[str]):\n",
    "    # import collections\n",
    "    # # hashmap\n",
    "    # res = collections.defaultdict(list)\n",
    "\n",
    "    # for str in strs:\n",
    "    #     counter = [0] * 26\n",
    "\n",
    "    #     for l in str:\n",
    "    #         # relative position of the letter l from \"a\"\n",
    "    #         counter[ord(l) - ord(\"a\")] += 1\n",
    "\n",
    "    #     res[tuple(counter)].append(str)\n",
    "\n",
    "    # return res.values()\n",
    "\n",
    "    hashmap = {}\n",
    "\n",
    "    for string in strs:\n",
    "        # sort string \n",
    "        sorted_string = ''.join(sorted(string))\n",
    "\n",
    "        # append all anagrams to the sorted string hashmap\n",
    "        if sorted_string not in hashmap.keys():\n",
    "            hashmap[sorted_string] = []\n",
    "\n",
    "        hashmap[sorted_string].append(string)\n",
    "\n",
    "    return list(hashmap.values())\n",
    "\n",
    "strs = [\"eat\",\"tea\",\"tan\",\"ate\",\"nat\",\"bat\"]\n",
    "groupAnagrams(strs)"
   ]
  },
  {
   "attachments": {},
   "cell_type": "markdown",
   "metadata": {},
   "source": [
    "### 347. Top K Frequent Elements\n",
    "\n",
    "https://leetcode.com/problems/top-k-frequent-elements/\n",
    "\n",
    "Given an integer array nums and an integer k, return the k most frequent elements. You may return the answer in any order.\n",
    "\n",
    " \n",
    "Example 1:\n",
    "```\n",
    "Input: nums = [1,1,1,2,2,3], k = 2\n",
    "Output: [1,2]\n",
    "```\n",
    "Example 2:\n",
    "```\n",
    "Input: nums = [1], k = 1\n",
    "Output: [1]\n",
    "```\n",
    "\n",
    "Constraints:\n",
    "```\n",
    "1 <= nums.length <= 105\n",
    "-104 <= nums[i] <= 104\n",
    "k is in the range [1, the number of unique elements in the array].\n",
    "It is guaranteed that the answer is unique.\n",
    "```\n",
    "\n",
    "Follow up: Your algorithm's time complexity must be better than O(n log n), where n is the array's size."
   ]
  },
  {
   "cell_type": "code",
   "execution_count": 35,
   "metadata": {},
   "outputs": [
    {
     "data": {
      "text/plain": [
       "[1, 2]"
      ]
     },
     "execution_count": 35,
     "metadata": {},
     "output_type": "execute_result"
    }
   ],
   "source": [
    "def topKFrequent(nums: List[int], k: int):\n",
    "    # count = {}\n",
    "    # freq = [[] for _ in range(len(nums) + 1)]\n",
    "\n",
    "    # for num in nums:\n",
    "    #     count[num] = 1 + count.get(num, 0)\n",
    "        \n",
    "    # for n, c in count.items():\n",
    "    #     freq[c].append(n)\n",
    "\n",
    "    # res = []\n",
    "    # for i in reversed(range(len(freq) - 1)):\n",
    "    #     for n in freq[i]:\n",
    "    #         res.append(n)\n",
    "    #         if len(res) == k:\n",
    "    #             return res\n",
    "\n",
    "    # O(1) time \n",
    "    if k == len(nums):\n",
    "        return nums\n",
    "    \n",
    "    # 1. build hash map : character and how often it appears\n",
    "    # O(N) time\n",
    "    count = collections.Counter(nums)   \n",
    "    # 2-3. build heap of top k frequent elements and\n",
    "    # convert it into an output array\n",
    "    # O(N log k) time\n",
    "    return heapq.nlargest(k, count.keys(), key=count.get) \n",
    "\n",
    "nums = [1,1,1,2,2,3]\n",
    "k = 2\n",
    "\n",
    "# nums = [-1,-1]\n",
    "# k = 1\n",
    "topKFrequent(nums, k)"
   ]
  },
  {
   "attachments": {},
   "cell_type": "markdown",
   "metadata": {},
   "source": [
    "### 238. Product of Array Except Self\n",
    "\n",
    "https://leetcode.com/problems/product-of-array-except-self/\n",
    "\n",
    "Given an integer array nums, return an array answer such that answer[i] is equal to the product of all the elements of nums except nums[i].\n",
    "\n",
    "The product of any prefix or suffix of nums is guaranteed to fit in a 32-bit integer.\n",
    "\n",
    "You must write an algorithm that runs in O(n) time and without using the division operation.\n",
    "\n",
    " \n",
    "\n",
    "Example 1:\n",
    "```\n",
    "Input: nums = [1,2,3,4]\n",
    "Output: [24,12,8,6]\n",
    "```\n",
    "Example 2:\n",
    "```\n",
    "Input: nums = [-1,1,0,-3,3]\n",
    "Output: [0,0,9,0,0]\n",
    "```\n",
    "\n",
    "Constraints:\n",
    "```\n",
    "2 <= nums.length <= 105\n",
    "-30 <= nums[i] <= 30\n",
    "The product of any prefix or suffix of nums is guaranteed to fit in a 32-bit integer.\n",
    "```"
   ]
  },
  {
   "cell_type": "code",
   "execution_count": 158,
   "metadata": {},
   "outputs": [
    {
     "data": {
      "text/plain": [
       "[24, 12, 8, 6]"
      ]
     },
     "execution_count": 158,
     "metadata": {},
     "output_type": "execute_result"
    }
   ],
   "source": [
    "def productExceptSelf(nums: List[int]):\n",
    "\n",
    "    n = len(nums)\n",
    "    res = [1] * n\n",
    "    # traverse from start to end to obtain the product for the prefix \n",
    "    prefix = 1\n",
    "    for i in range(n):\n",
    "        res[i] = prefix\n",
    "        prefix *= nums[i]\n",
    "\n",
    "    suffix = 1\n",
    "\n",
    "    # traverse from end to start to obtain the product for the suffix \n",
    "    for i in reversed(range(n)):\n",
    "        res[i] *= suffix    \n",
    "        suffix *= nums[i] \n",
    "\n",
    "    return res\n",
    "\n",
    "nums = [1,2,3,4]\n",
    "productExceptSelf(nums)"
   ]
  },
  {
   "attachments": {},
   "cell_type": "markdown",
   "metadata": {},
   "source": [
    "### 128. Longest Consecutive Sequence\n",
    "\n",
    "https://leetcode.com/problems/longest-consecutive-sequence/\n",
    "\n",
    "Given an unsorted array of integers nums, return the length of the longest consecutive elements sequence.\n",
    "\n",
    "You must write an algorithm that runs in O(n) time.\n",
    "\n",
    "Example 1:\n",
    "```\n",
    "Input: nums = [100,4,200,1,3,2]\n",
    "Output: 4\n",
    "Explanation: The longest consecutive elements sequence is [1, 2, 3, 4]. Therefore its length is 4.\n",
    "```\n",
    "Example 2:\n",
    "```\n",
    "Input: nums = [0,3,7,2,5,8,4,6,0,1]\n",
    "Output: 9\n",
    "```"
   ]
  },
  {
   "cell_type": "code",
   "execution_count": 184,
   "metadata": {},
   "outputs": [
    {
     "data": {
      "text/plain": [
       "9"
      ]
     },
     "execution_count": 184,
     "metadata": {},
     "output_type": "execute_result"
    }
   ],
   "source": [
    "def longestConsecutive(nums: List[int]):\n",
    "    if len(nums) == 0:\n",
    "        return 0\n",
    "\n",
    "    else:\n",
    "        num_set = set(nums)\n",
    "        longest = 0\n",
    "        for num in num_set:\n",
    "            # check if num is the start of the sequence\n",
    "            if (num - 1) not in num_set:\n",
    "                current_seq_length = 0\n",
    "                while (num + current_seq_length) in num_set:\n",
    "                    current_seq_length +=1\n",
    "                \n",
    "                longest = max(longest, current_seq_length)\n",
    "\n",
    "    return longest\n",
    "\n",
    "nums = [0,3,7,2,5,8,4,6,0,1]\n",
    "longestConsecutive(nums)"
   ]
  },
  {
   "attachments": {},
   "cell_type": "markdown",
   "metadata": {},
   "source": [
    "### 271. Encode and Decode Strings\n",
    "Design an algorithm to encode a list of strings to a string. The encoded string is then sent over the network and is decoded back to the original list of strings.\n",
    "\n",
    "```\n",
    "Machine 1 (sender) has the function:\n",
    "\n",
    "string encode(vector<string> strs) {\n",
    "  // ... your code\n",
    "  return encoded_string;\n",
    "}\n",
    "Machine 2 (receiver) has the function:\n",
    "vector<string> decode(string s) {\n",
    "  //... your code\n",
    "  return strs;\n",
    "}\n",
    "So Machine 1 does:\n",
    "\n",
    "string encoded_string = encode(strs);\n",
    "and Machine 2 does:\n",
    "\n",
    "vector<string> strs2 = decode(encoded_string);\n",
    "strs2 in Machine 2 should be the same as strs in Machine 1.\n",
    "```\n",
    "\n",
    "Implement the encode and decode methods.\n",
    "\n",
    "You are not allowed to solve the problem using any serialize methods (such as eval).\n",
    "\n",
    " \n",
    "\n",
    "Example 1:\n",
    "```\n",
    "Input: dummy_input = [\"Hello\",\"World\"]\n",
    "Output: [\"Hello\",\"World\"]\n",
    "Explanation:\n",
    "Machine 1:\n",
    "Codec encoder = new Codec();\n",
    "String msg = encoder.encode(strs);\n",
    "Machine 1 ---msg---> Machine 2\n",
    "\n",
    "Machine 2:\n",
    "Codec decoder = new Codec();\n",
    "String[] strs = decoder.decode(msg);\n",
    "```\n",
    "Example 2:\n",
    "```\n",
    "Input: dummy_input = [\"\"]\n",
    "Output: [\"\"]\n",
    "``` \n",
    "\n",
    "Constraints:\n",
    "```\n",
    "1 <= strs.length <= 200\n",
    "0 <= strs[i].length <= 200\n",
    "strs[i] contains any possible characters out of 256 valid ASCII characters.\n",
    "``` "
   ]
  },
  {
   "cell_type": "code",
   "execution_count": 185,
   "metadata": {},
   "outputs": [
    {
     "data": {
      "text/plain": [
       "['Hello', 'World']"
      ]
     },
     "execution_count": 185,
     "metadata": {},
     "output_type": "execute_result"
    }
   ],
   "source": [
    "class Codec:\n",
    "    \"\"\"\n",
    "    @param: strs: a list of strings\n",
    "    @return: encodes a list of strings to a single string.\n",
    "    \"\"\"\n",
    "\n",
    "    def encode(self, strs):\n",
    "        res = \"\"\n",
    "        for s in strs:\n",
    "            res += str(len(s)) + \"#\" + s\n",
    "        return res\n",
    "\n",
    "    \"\"\"\n",
    "    @param: s: A string\n",
    "    @return: decodes a single string to a list of strings\n",
    "    \"\"\"\n",
    "\n",
    "    def decode(self, s):\n",
    "        res, i = [], 0\n",
    "\n",
    "        while i < len(s):\n",
    "            j = i\n",
    "            while s[j] != \"#\":\n",
    "                j += 1\n",
    "            length = int(s[i:j])\n",
    "            res.append(s[j + 1 : j + 1 + length])\n",
    "            i = j + 1 + length\n",
    "        return res\n",
    "\n",
    "strs = [\"Hello\",\"World\"]\n",
    "\n",
    "# Your Codec object will be instantiated and called as such:\n",
    "codec = Codec()\n",
    "codec.decode(codec.encode(strs))"
   ]
  },
  {
   "attachments": {},
   "cell_type": "markdown",
   "metadata": {},
   "source": [
    "### 36. Valid Sudoku\n",
    "Determine if a 9 x 9 Sudoku board is valid. Only the filled cells need to be validated according to the following rules:\n",
    "\n",
    "Each row must contain the digits 1-9 without repetition.\n",
    "Each column must contain the digits 1-9 without repetition.\n",
    "Each of the nine 3 x 3 sub-boxes of the grid must contain the digits 1-9 without repetition.\n",
    "Note:\n",
    "\n",
    "A Sudoku board (partially filled) could be valid but is not necessarily solvable.\n",
    "Only the filled cells need to be validated according to the mentioned rules.\n",
    " \n",
    "\n",
    "Example 1:\n",
    "```\n",
    "Input: board = \n",
    "[[\"5\",\"3\",\".\",\".\",\"7\",\".\",\".\",\".\",\".\"]\n",
    ",[\"6\",\".\",\".\",\"1\",\"9\",\"5\",\".\",\".\",\".\"]\n",
    ",[\".\",\"9\",\"8\",\".\",\".\",\".\",\".\",\"6\",\".\"]\n",
    ",[\"8\",\".\",\".\",\".\",\"6\",\".\",\".\",\".\",\"3\"]\n",
    ",[\"4\",\".\",\".\",\"8\",\".\",\"3\",\".\",\".\",\"1\"]\n",
    ",[\"7\",\".\",\".\",\".\",\"2\",\".\",\".\",\".\",\"6\"]\n",
    ",[\".\",\"6\",\".\",\".\",\".\",\".\",\"2\",\"8\",\".\"]\n",
    ",[\".\",\".\",\".\",\"4\",\"1\",\"9\",\".\",\".\",\"5\"]\n",
    ",[\".\",\".\",\".\",\".\",\"8\",\".\",\".\",\"7\",\"9\"]]\n",
    "Output: true\n",
    "```\n",
    "Example 2:\n",
    "```\n",
    "Input: board = \n",
    "[[\"8\",\"3\",\".\",\".\",\"7\",\".\",\".\",\".\",\".\"]\n",
    ",[\"6\",\".\",\".\",\"1\",\"9\",\"5\",\".\",\".\",\".\"]\n",
    ",[\".\",\"9\",\"8\",\".\",\".\",\".\",\".\",\"6\",\".\"]\n",
    ",[\"8\",\".\",\".\",\".\",\"6\",\".\",\".\",\".\",\"3\"]\n",
    ",[\"4\",\".\",\".\",\"8\",\".\",\"3\",\".\",\".\",\"1\"]\n",
    ",[\"7\",\".\",\".\",\".\",\"2\",\".\",\".\",\".\",\"6\"]\n",
    ",[\".\",\"6\",\".\",\".\",\".\",\".\",\"2\",\"8\",\".\"]\n",
    ",[\".\",\".\",\".\",\"4\",\"1\",\"9\",\".\",\".\",\"5\"]\n",
    ",[\".\",\".\",\".\",\".\",\"8\",\".\",\".\",\"7\",\"9\"]]\n",
    "Output: false\n",
    "Explanation: Same as Example 1, except with the 5 in the top left corner being modified to 8. Since there are two 8's in the top left 3x3 sub-box, it is invalid.\n",
    "```\n",
    "\n",
    "Constraints:\n",
    "```\n",
    "board.length == 9\n",
    "board[i].length == 9\n",
    "board[i][j] is a digit 1-9 or '.'.\n",
    "```"
   ]
  },
  {
   "cell_type": "code",
   "execution_count": null,
   "metadata": {},
   "outputs": [],
   "source": [
    "def isValidSudoku(board: List[List[str]]):\n",
    "    cols = collections.defaultdict(set)\n",
    "    rows = collections.defaultdict(set)\n",
    "    # create a new square of 3x3 sudoku grids key = (row//3, col//3 )\n",
    "    squares = collections.defaultdict(set) \n",
    "    for r in range(9):\n",
    "        for c in range(9):\n",
    "            # skip unfilled cell\n",
    "            if board[r][c] == \".\":\n",
    "                continue\n",
    "            if (board[r][c] in rows[r] or\n",
    "                board[r][c] in cols[c] or\n",
    "                board[r][c] in squares[(r//3, c//3)]):\n",
    "                return False\n",
    "            # add new digits to the hashsets\n",
    "            cols[c].add(board[r][c])\n",
    "            rows[r].add(board[r][c])\n",
    "            squares[(r//3, c//3)].add(board[r][c])\n",
    "\n",
    "    # sudoku is valid\n",
    "    return True"
   ]
  },
  {
   "attachments": {},
   "cell_type": "markdown",
   "metadata": {},
   "source": [
    "### 1768. Merge Strings Alternately\n",
    "\n",
    "https://leetcode.com/problems/merge-strings-alternately/\n",
    "\n",
    "You are given two strings word1 and word2. Merge the strings by adding letters in alternating order, starting with word1. If a string is longer than the other, append the additional letters onto the end of the merged string.\n",
    "\n",
    "Return the merged string.\n",
    "\n",
    " \n",
    "Example 1:\n",
    "```\n",
    "Input: word1 = \"abc\", word2 = \"pqr\"\n",
    "Output: \"apbqcr\"\n",
    "Explanation: The merged string will be merged as so:\n",
    "word1:  a   b   c\n",
    "word2:    p   q   r\n",
    "merged: a p b q c r\n",
    "```\n",
    "Example 2:\n",
    "```\n",
    "Input: word1 = \"ab\", word2 = \"pqrs\"\n",
    "Output: \"apbqrs\"\n",
    "Explanation: Notice that as word2 is longer, \"rs\" is appended to the end.\n",
    "word1:  a   b \n",
    "word2:    p   q   r   s\n",
    "merged: a p b q   r   s\n",
    "```\n",
    "Example 3:\n",
    "```\n",
    "Input: word1 = \"abcd\", word2 = \"pq\"\n",
    "Output: \"apbqcd\"\n",
    "Explanation: Notice that as word1 is longer, \"cd\" is appended to the end.\n",
    "word1:  a   b   c   d\n",
    "word2:    p   q \n",
    "merged: a p b q c   d\n",
    "```\n",
    "\n",
    "Constraints:\n",
    "```\n",
    "1 <= word1.length, word2.length <= 100\n",
    "word1 and word2 consist of lowercase English letters.\n",
    "```"
   ]
  },
  {
   "cell_type": "code",
   "execution_count": 51,
   "metadata": {},
   "outputs": [
    {
     "data": {
      "text/plain": [
       "'apbqcr'"
      ]
     },
     "execution_count": 51,
     "metadata": {},
     "output_type": "execute_result"
    }
   ],
   "source": [
    "def mergeAlternately(word1: str, word2: str) -> str:\n",
    "        m = len(word1)\n",
    "        n = len(word2)\n",
    "        i = 0\n",
    "        j = 0\n",
    "        res = []\n",
    "\n",
    "        while i < m or j < n:\n",
    "            if i < m:\n",
    "                res.append(word1[i])\n",
    "                i+=1\n",
    "            if j < n:\n",
    "                res.append(word2[j])\n",
    "                j += 1\n",
    "                \n",
    "        return \"\".join(res)\n",
    "\n",
    "word1 = \"abc\"\n",
    "word2 = \"pqr\"\n",
    "mergeAlternately(word1, word2)"
   ]
  },
  {
   "attachments": {},
   "cell_type": "markdown",
   "metadata": {},
   "source": [
    "### 1071. Greatest Common Divisor of Strings\n",
    "\n",
    "https://leetcode.com/problems/greatest-common-divisor-of-strings/\n",
    "\n",
    "For two strings s and t, we say \"t divides s\" if and only if s = t + ... + t (i.e., t is concatenated with itself one or more times).\n",
    "\n",
    "Given two strings str1 and str2, return the largest string x such that x divides both str1 and str2.\n",
    "\n",
    "\n",
    "Example 1:\n",
    "```\n",
    "Input: str1 = \"ABCABC\", str2 = \"ABC\"\n",
    "Output: \"ABC\"\n",
    "```\n",
    "\n",
    "Example 2:\n",
    "```\n",
    "Input: str1 = \"ABABAB\", str2 = \"ABAB\"\n",
    "Output: \"AB\"\n",
    "```\n",
    "\n",
    "Example 3:\n",
    "```\n",
    "Input: str1 = \"LEET\", str2 = \"CODE\"\n",
    "Output: \"\"\n",
    "```\n",
    "\n",
    "Constraints:\n",
    "```\n",
    "1 <= str1.length, str2.length <= 1000\n",
    "str1 and str2 consist of English uppercase letters.\n",
    "```"
   ]
  },
  {
   "cell_type": "code",
   "execution_count": 58,
   "metadata": {},
   "outputs": [
    {
     "data": {
      "text/plain": [
       "'ABC'"
      ]
     },
     "execution_count": 58,
     "metadata": {},
     "output_type": "execute_result"
    }
   ],
   "source": [
    "def gcdOfStrings(str1: str, str2: str) -> str:\n",
    "    len1, len2 = len(str1), len(str2)\n",
    "    \n",
    "    def valid(k):\n",
    "        if len1 % k or len2 % k: \n",
    "            return False\n",
    "        n1, n2 = len1 // k, len2 // k\n",
    "        base = str1[:k]\n",
    "        return str1 == n1 * base and str2 == n2 * base \n",
    "    \n",
    "    for i in reversed(range(1, min(len1, len2) + 1)):\n",
    "        if valid(i):\n",
    "            return str1[:i]\n",
    "    return \"\"\n",
    "\n",
    "str1 = \"ABCABC\"\n",
    "str2 = \"ABC\"\n",
    "gcdOfStrings(str1, str2)"
   ]
  },
  {
   "attachments": {},
   "cell_type": "markdown",
   "metadata": {},
   "source": [
    "### 88. Merge Sorted Array\n",
    "\n",
    "https://leetcode.com/problems/merge-sorted-array/\n",
    "\n",
    "You are given two integer arrays nums1 and nums2, sorted in non-decreasing order, and two integers m and n, representing the number of elements in nums1 and nums2 respectively.\n",
    "\n",
    "Merge nums1 and nums2 into a single array sorted in non-decreasing order.\n",
    "\n",
    "The final sorted array should not be returned by the function, but instead be stored inside the array nums1. To accommodate this, nums1 has a length of m + n, where the first m elements denote the elements that should be merged, and the last n elements are set to 0 and should be ignored. nums2 has a length of n.\n",
    "\n",
    " \n",
    "\n",
    "Example 1:\n",
    "```\n",
    "Input: nums1 = [1,2,3,0,0,0], m = 3, nums2 = [2,5,6], n = 3\n",
    "Output: [1,2,2,3,5,6]\n",
    "Explanation: The arrays we are merging are [1,2,3] and [2,5,6].\n",
    "The result of the merge is [1,2,2,3,5,6] with the underlined elements coming from nums1.\n",
    "```\n",
    "Example 2:\n",
    "```\n",
    "Input: nums1 = [1], m = 1, nums2 = [], n = 0\n",
    "Output: [1]\n",
    "Explanation: The arrays we are merging are [1] and [].\n",
    "The result of the merge is [1].\n",
    "```\n",
    "Example 3:\n",
    "```\n",
    "Input: nums1 = [0], m = 0, nums2 = [1], n = 1\n",
    "Output: [1]\n",
    "Explanation: The arrays we are merging are [] and [1].\n",
    "The result of the merge is [1].\n",
    "Note that because m = 0, there are no elements in nums1. The 0 is only there to ensure the merge result can fit in nums1.\n",
    "``` \n",
    "\n",
    "Constraints:\n",
    "```\n",
    "nums1.length == m + n\n",
    "nums2.length == n\n",
    "0 <= m, n <= 200\n",
    "1 <= m + n <= 200\n",
    "-109 <= nums1[i], nums2[j] <= 109\n",
    "``` \n",
    "\n",
    "Follow up: Can you come up with an algorithm that runs in O(m + n) time?"
   ]
  },
  {
   "cell_type": "code",
   "execution_count": null,
   "metadata": {},
   "outputs": [],
   "source": [
    "def merge(nums1: List[int], m: int, nums2: List[int], n: int) -> None:\n",
    "    \"\"\"\n",
    "    Do not return anything, modify nums1 in-place instead.\n",
    "    \"\"\"\n",
    "    p1 = m-1\n",
    "    p2 = n-1\n",
    "    write_idx = m+n-1\n",
    "    while p2>=0:\n",
    "        if p1>=0 and nums1[p1] > nums2[p2]:\n",
    "            nums1[write_idx] = nums1[p1]\n",
    "            p1-=1\n",
    "        else:\n",
    "            nums1[write_idx] = nums2[p2]\n",
    "            p2-=1\n",
    "        write_idx -=1"
   ]
  },
  {
   "attachments": {},
   "cell_type": "markdown",
   "metadata": {},
   "source": [
    "### 27. Remove Element\n",
    "\n",
    "https://leetcode.com/problems/remove-element/\n",
    "\n",
    "Given an integer array nums and an integer val, remove all occurrences of val in nums in-place. The order of the elements may be changed. Then return the number of elements in nums which are not equal to val.\n",
    "\n",
    "Consider the number of elements in nums which are not equal to val be k, to get accepted, you need to do the following things:\n",
    "\n",
    "- Change the array nums such that the first k elements of nums contain the elements which are not equal to val. The remaining elements of nums are not important as well as the size of nums.\n",
    "- Return k.\n",
    "\n",
    "Custom Judge:\n",
    "\n",
    "The judge will test your solution with the following code:\n",
    "```\n",
    "int[] nums = [...]; // Input array\n",
    "int val = ...; // Value to remove\n",
    "int[] expectedNums = [...]; // The expected answer with correct length.\n",
    "                            // It is sorted with no values equaling val.\n",
    "\n",
    "int k = removeElement(nums, val); // Calls your implementation\n",
    "\n",
    "assert k == expectedNums.length;\n",
    "sort(nums, 0, k); // Sort the first k elements of nums\n",
    "for (int i = 0; i < actualLength; i++) {\n",
    "    assert nums[i] == expectedNums[i];\n",
    "}\n",
    "```\n",
    "If all assertions pass, then your solution will be accepted.\n",
    " \n",
    "\n",
    "Example 1:\n",
    "```\n",
    "Input: nums = [3,2,2,3], val = 3\n",
    "Output: 2, nums = [2,2,_,_]\n",
    "Explanation: Your function should return k = 2, with the first two elements of nums being 2.\n",
    "It does not matter what you leave beyond the returned k (hence they are underscores).\n",
    "```\n",
    "Example 2:\n",
    "```\n",
    "Input: nums = [0,1,2,2,3,0,4,2], val = 2\n",
    "Output: 5, nums = [0,1,4,0,3,_,_,_]\n",
    "Explanation: Your function should return k = 5, with the first five elements of nums containing 0, 0, 1, 3, and 4.\n",
    "Note that the five elements can be returned in any order.\n",
    "It does not matter what you leave beyond the returned k (hence they are underscores).\n",
    "```\n",
    "\n",
    "Constraints:\n",
    "```\n",
    "0 <= nums.length <= 100\n",
    "0 <= nums[i] <= 50\n",
    "0 <= val <= 100\n",
    "```"
   ]
  },
  {
   "cell_type": "code",
   "execution_count": null,
   "metadata": {},
   "outputs": [],
   "source": [
    "def removeElement(nums: List[int], val: int) -> int:\n",
    "        count = 0\n",
    "\n",
    "        for num in nums:\n",
    "            if num != val:\n",
    "                nums[count] = num\n",
    "                count +=1\n",
    "\n",
    "        return count\n",
    "    "
   ]
  },
  {
   "attachments": {},
   "cell_type": "markdown",
   "metadata": {},
   "source": [
    "### 26. Remove Duplicates from Sorted Array\n",
    "\n",
    "https://leetcode.com/problems/remove-duplicates-from-sorted-array/\n",
    "\n",
    "Given an integer array nums sorted in non-decreasing order, remove the duplicates in-place such that each unique element appears only once. The relative order of the elements should be kept the same. Then return the number of unique elements in nums.\n",
    "\n",
    "Consider the number of unique elements of nums to be k, to get accepted, you need to do the following things:\n",
    "\n",
    "- Change the array nums such that the first k elements of nums contain the unique elements in the order they were present in nums initially. The remaining elements of nums are not important as well as the size of nums.\n",
    "- Return k.\n",
    "\n",
    "Custom Judge:\n",
    "```\n",
    "The judge will test your solution with the following code:\n",
    "\n",
    "int[] nums = [...]; // Input array\n",
    "int[] expectedNums = [...]; // The expected answer with correct length\n",
    "\n",
    "int k = removeDuplicates(nums); // Calls your implementation\n",
    "\n",
    "assert k == expectedNums.length;\n",
    "for (int i = 0; i < k; i++) {\n",
    "    assert nums[i] == expectedNums[i];\n",
    "}\n",
    "```\n",
    "If all assertions pass, then your solution will be accepted.\n",
    "\n",
    " \n",
    "\n",
    "Example 1:\n",
    "```\n",
    "Input: nums = [1,1,2]\n",
    "Output: 2, nums = [1,2,_]\n",
    "Explanation: Your function should return k = 2, with the first two elements of nums being 1 and 2 respectively.\n",
    "It does not matter what you leave beyond the returned k (hence they are underscores).\n",
    "```\n",
    "\n",
    "Example 2:\n",
    "```\n",
    "Input: nums = [0,0,1,1,1,2,2,3,3,4]\n",
    "Output: 5, nums = [0,1,2,3,4,_,_,_,_,_]\n",
    "Explanation: Your function should return k = 5, with the first five elements of nums being 0, 1, 2, 3, and 4 respectively.\n",
    "It does not matter what you leave beyond the returned k (hence they are underscores).\n",
    "``` \n",
    "\n",
    "Constraints:\n",
    "```\n",
    "1 <= nums.length <= 3 * 104\n",
    "-100 <= nums[i] <= 100\n",
    "nums is sorted in non-decreasing order.\n",
    "```"
   ]
  },
  {
   "cell_type": "code",
   "execution_count": null,
   "metadata": {},
   "outputs": [],
   "source": [
    "def removeDuplicates(nums: List[int]) -> int:\n",
    "    insert_idx = 1\n",
    "\n",
    "    for curr in range(1, len(nums)):\n",
    "        if nums[curr] != nums[curr - 1]:\n",
    "            nums[insert_idx] = nums[curr]\n",
    "            insert_idx+=1\n",
    "\n",
    "    return insert_idx\n"
   ]
  },
  {
   "attachments": {},
   "cell_type": "markdown",
   "metadata": {},
   "source": [
    "### 80. Remove Duplicates from Sorted Array II\n",
    "\n",
    "https://leetcode.com/problems/remove-duplicates-from-sorted-array-ii/\n",
    "\n",
    "Given an integer array nums sorted in non-decreasing order, remove some duplicates in-place such that each unique element appears at most twice. The relative order of the elements should be kept the same.\n",
    "\n",
    "Since it is impossible to change the length of the array in some languages, you must instead have the result be placed in the first part of the array nums. More formally, if there are k elements after removing the duplicates, then the first k elements of nums should hold the final result. It does not matter what you leave beyond the first k elements.\n",
    "\n",
    "Return k after placing the final result in the first k slots of nums.\n",
    "\n",
    "Do not allocate extra space for another array. You must do this by modifying the input array in-place with O(1) extra memory.\n",
    "\n",
    "Custom Judge:\n",
    "\n",
    "The judge will test your solution with the following code:\n",
    "```\n",
    "int[] nums = [...]; // Input array\n",
    "int[] expectedNums = [...]; // The expected answer with correct length\n",
    "\n",
    "int k = removeDuplicates(nums); // Calls your implementation\n",
    "\n",
    "assert k == expectedNums.length;\n",
    "for (int i = 0; i < k; i++) {\n",
    "    assert nums[i] == expectedNums[i];\n",
    "}\n",
    "```\n",
    "If all assertions pass, then your solution will be accepted.\n",
    "\n",
    " \n",
    "\n",
    "Example 1:\n",
    "```\n",
    "Input: nums = [1,1,1,2,2,3]\n",
    "Output: 5, nums = [1,1,2,2,3,_]\n",
    "Explanation: Your function should return k = 5, with the first five elements of nums being 1, 1, 2, 2 and 3 respectively.\n",
    "It does not matter what you leave beyond the returned k (hence they are underscores).\n",
    "```\n",
    "Example 2:\n",
    "```\n",
    "Input: nums = [0,0,1,1,1,1,2,3,3]\n",
    "Output: 7, nums = [0,0,1,1,2,3,3,_,_]\n",
    "Explanation: Your function should return k = 7, with the first seven elements of nums being 0, 0, 1, 1, 2, 3 and 3 respectively.\n",
    "It does not matter what you leave beyond the returned k (hence they are underscores).\n",
    "```\n",
    "\n",
    "Constraints:\n",
    "```\n",
    "1 <= nums.length <= 3 * 104\n",
    "-104 <= nums[i] <= 104\n",
    "nums is sorted in non-decreasing order.\n",
    "```"
   ]
  },
  {
   "cell_type": "code",
   "execution_count": 4,
   "metadata": {},
   "outputs": [],
   "source": [
    "def removeDuplicates(nums: List[int]) -> int:\n",
    "   curr = 2\n",
    "   while curr < len(nums):\n",
    "    if nums[curr] == nums[curr-2]:\n",
    "        nums.pop(curr)\n",
    "    else:\n",
    "        curr+=1\n",
    "            \n",
    "    return len(nums)\n"
   ]
  },
  {
   "attachments": {},
   "cell_type": "markdown",
   "metadata": {},
   "source": [
    "### 169. Majority Element\n",
    "\n",
    "https://leetcode.com/problems/majority-element/\n",
    "\n",
    "Given an array nums of size n, return the majority element.\n",
    "\n",
    "The majority element is the element that appears more than ⌊n / 2⌋ times. You may assume that the majority element always exists in the array.\n",
    "\n",
    " \n",
    "\n",
    "Example 1:\n",
    "```\n",
    "Input: nums = [3,2,3]\n",
    "Output: 3\n",
    "```\n",
    "Example 2:\n",
    "```\n",
    "Input: nums = [2,2,1,1,1,2,2]\n",
    "Output: 2\n",
    "```\n",
    "\n",
    "Constraints:\n",
    "```\n",
    "n == nums.length\n",
    "1 <= n <= 5 * 104\n",
    "-109 <= nums[i] <= 109\n",
    "```"
   ]
  },
  {
   "cell_type": "code",
   "execution_count": null,
   "metadata": {},
   "outputs": [],
   "source": [
    "def majorityElement(nums: List[int]) -> int:\n",
    "    count = 0\n",
    "    candidate = None\n",
    "\n",
    "    for num in nums:\n",
    "        if count == 0:\n",
    "            candidate = num\n",
    "        count += (1 if num == candidate else -1)\n",
    "\n",
    "    return candidate\n"
   ]
  },
  {
   "cell_type": "code",
   "execution_count": 3,
   "metadata": {},
   "outputs": [
    {
     "name": "stdout",
     "output_type": "stream",
     "text": [
      "G1e3E2K3s2\n"
     ]
    }
   ],
   "source": [
    "s = \"GeeeEEKKKss\"\n",
    "counter = collections.Counter(s)\n",
    "res = []\n",
    "for char, count in counter.items():\n",
    "    res.append(char)\n",
    "    res.append(str(count))\n",
    "\n",
    "print(\"\".join(res))"
   ]
  },
  {
   "cell_type": "code",
   "execution_count": 7,
   "metadata": {},
   "outputs": [
    {
     "name": "stdout",
     "output_type": "stream",
     "text": [
      "['one', 'two', 'three', 'fourfivesix', 'seven', '']\n"
     ]
    }
   ],
   "source": [
    "s = [\"one$\", \"two$three$\", \"four\", \"five\", \"six$\", \"seven$\"]\n",
    "s_joined = \"\".join(s)\n",
    "print(s_joined.split(\"$\"))"
   ]
  },
  {
   "cell_type": "code",
   "execution_count": 11,
   "metadata": {},
   "outputs": [
    {
     "name": "stdout",
     "output_type": "stream",
     "text": [
      "\n"
     ]
    }
   ],
   "source": [
    "s = \"leetcode\"\n",
    "wordDict = [\"leet\",\"code\"]\n",
    "res = \"\"\n",
    "\n",
    "for word in wordDict:\n",
    "    s = s.replace(word, \"\")\n",
    "\n",
    "print(s)"
   ]
  },
  {
   "cell_type": "code",
   "execution_count": 12,
   "metadata": {},
   "outputs": [
    {
     "data": {
      "text/plain": [
       "True"
      ]
     },
     "execution_count": 12,
     "metadata": {},
     "output_type": "execute_result"
    }
   ],
   "source": [
    "\"leet\" in \"leetcode\""
   ]
  }
 ],
 "metadata": {
  "kernelspec": {
   "display_name": "django_env",
   "language": "python",
   "name": "python3"
  },
  "language_info": {
   "codemirror_mode": {
    "name": "ipython",
    "version": 3
   },
   "file_extension": ".py",
   "mimetype": "text/x-python",
   "name": "python",
   "nbconvert_exporter": "python",
   "pygments_lexer": "ipython3",
   "version": "3.11.4"
  },
  "orig_nbformat": 4
 },
 "nbformat": 4,
 "nbformat_minor": 2
}
