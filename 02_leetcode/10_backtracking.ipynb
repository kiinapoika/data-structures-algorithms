{
 "cells": [
  {
   "attachments": {},
   "cell_type": "markdown",
   "metadata": {},
   "source": [
    "# Backtracking"
   ]
  },
  {
   "cell_type": "code",
   "execution_count": 2,
   "metadata": {},
   "outputs": [],
   "source": [
    "from typing import List, Optional\n",
    "from IPython.display import Image\n",
    "import heapq\n"
   ]
  },
  {
   "attachments": {},
   "cell_type": "markdown",
   "metadata": {},
   "source": [
    "### 78. Subsets\n",
    "\n",
    "Given an integer array nums of unique elements, return all possible \n",
    "subsets\n",
    " (the power set).\n",
    "\n",
    "The solution set must not contain duplicate subsets. Return the solution in any order.\n",
    "\n",
    " \n",
    "Example 1:\n",
    "```\n",
    "Input: nums = [1,2,3]\n",
    "Output: [[],[1],[2],[1,2],[3],[1,3],[2,3],[1,2,3]]\n",
    "```\n",
    "Example 2:\n",
    "```\n",
    "Input: nums = [0]\n",
    "Output: [[],[0]]\n",
    "``` \n",
    "\n",
    "Constraints:\n",
    "```\n",
    "1 <= nums.length <= 10\n",
    "-10 <= nums[i] <= 10\n",
    "All the numbers of nums are unique.\n",
    "```"
   ]
  },
  {
   "cell_type": "code",
   "execution_count": 3,
   "metadata": {},
   "outputs": [
    {
     "data": {
      "text/plain": [
       "[[1, 2, 3], [1, 2], [1, 3], [1], [2, 3], [2], [3], []]"
      ]
     },
     "execution_count": 3,
     "metadata": {},
     "output_type": "execute_result"
    }
   ],
   "source": [
    "def subsets(nums: List[int]) -> List[List[int]]:\n",
    "    res = []\n",
    "\n",
    "    subset = []\n",
    "    def dfs(i):\n",
    "        if i>=len(nums):\n",
    "            res.append(subset.copy())\n",
    "            return\n",
    "\n",
    "        subset.append(nums[i])\n",
    "        dfs(i+1)\n",
    "\n",
    "        subset.pop()\n",
    "        dfs(i+1)\n",
    "\n",
    "    dfs(0)\n",
    "    return res\n",
    "\n",
    "subsets([1, 2, 3])"
   ]
  },
  {
   "attachments": {},
   "cell_type": "markdown",
   "metadata": {},
   "source": [
    "### 39. Combination Sum\n",
    "\n",
    "Given an array of distinct integers candidates and a target integer target, return a list of all unique combinations of candidates where the chosen numbers sum to target. You may return the combinations in any order.\n",
    "\n",
    "The same number may be chosen from candidates an unlimited number of times. Two combinations are unique if the \n",
    "frequency\n",
    " of at least one of the chosen numbers is different.\n",
    "\n",
    "The test cases are generated such that the number of unique combinations that sum up to target is less than 150 combinations for the given input.\n",
    "\n",
    " \n",
    "\n",
    "Example 1:\n",
    "```\n",
    "Input: candidates = [2,3,6,7], target = 7\n",
    "Output: [[2,2,3],[7]]\n",
    "Explanation:\n",
    "2 and 3 are candidates, and 2 + 2 + 3 = 7. Note that 2 can be used multiple times.\n",
    "7 is a candidate, and 7 = 7.\n",
    "These are the only two combinations.\n",
    "```\n",
    "\n",
    "Example 2:\n",
    "```\n",
    "Input: candidates = [2,3,5], target = 8\n",
    "Output: [[2,2,2,2],[2,3,3],[3,5]]\n",
    "```\n",
    "\n",
    "Example 3:\n",
    "```\n",
    "Input: candidates = [2], target = 1\n",
    "Output: []\n",
    "``` \n",
    "\n",
    "Constraints:\n",
    "```\n",
    "1 <= candidates.length <= 30\n",
    "2 <= candidates[i] <= 40\n",
    "All elements of candidates are distinct.\n",
    "1 <= target <= 40\n",
    "```\n"
   ]
  },
  {
   "cell_type": "code",
   "execution_count": 10,
   "metadata": {},
   "outputs": [
    {
     "data": {
      "text/plain": [
       "1"
      ]
     },
     "execution_count": 10,
     "metadata": {},
     "output_type": "execute_result"
    }
   ],
   "source": [
    "def combinationSum(candidates: List[int], target: int) -> List[List[int]]:\n",
    "    # res = []\n",
    "\n",
    "    # # define dfs function\n",
    "    # def dfs(i, curr , total):\n",
    "    #     # stop recursion when the sum is equal to target and append the current value\n",
    "    #     if total == target:\n",
    "    #         res.append(curr.copy())\n",
    "        \n",
    "    #     # stop recursion when index is out of bound or sum is greater than target\n",
    "    #     if i>= len(candidates) or total > target:\n",
    "    #         return\n",
    "\n",
    "    #     # append the ith integer to the current result set\n",
    "    #     curr.append(candidates[i])\n",
    "\n",
    "    #     # start the recursion\n",
    "    #     dfs(i, curr, total+candidates[i])\n",
    "\n",
    "    #     # start the recursion again excl. the last item so the result set does not include duplicates\n",
    "    #     curr.pop()\n",
    "    #     dfs(i, curr, total)\n",
    "\n",
    "    # # run dfs on from index 0\n",
    "    # dfs(0, [], 0)\n",
    "\n",
    "    res = []\n",
    "    total = 0\n",
    "    def backtrack(curr: List[int], total: int, pos: int):\n",
    "        if target == total:\n",
    "            res.append(curr)\n",
    "        elif total < target:\n",
    "            for i in range(pos, len(candidates)):\n",
    "                backtrack(curr+[candidates[i]], total+candidates[i], i)\n",
    "    \n",
    "    backtrack([], total, 0)\n",
    "    return res"
   ]
  },
  {
   "attachments": {},
   "cell_type": "markdown",
   "metadata": {},
   "source": [
    "### 46. Permutations\n",
    "\n",
    "Given an array nums of distinct integers, return all the possible permutations. You can return the answer in any order.\n",
    "\n",
    " \n",
    "\n",
    "Example 1:\n",
    "```\n",
    "Input: nums = [1,2,3]\n",
    "Output: [[1,2,3],[1,3,2],[2,1,3],[2,3,1],[3,1,2],[3,2,1]]\n",
    "\n",
    "```\n",
    "Example 2:\n",
    "```\n",
    "Input: nums = [0,1]\n",
    "Output: [[0,1],[1,0]]\n",
    "``` \n",
    "\n",
    "Example 3:\n",
    "```\n",
    "Input: nums = [1]\n",
    "Output: [[1]]\n",
    "``` \n",
    "\n",
    "Constraints:\n",
    "```\n",
    "1 <= nums.length <= 6\n",
    "-10 <= nums[i] <= 10\n",
    "All the integers of nums are unique.\n",
    "```"
   ]
  },
  {
   "cell_type": "code",
   "execution_count": 5,
   "metadata": {},
   "outputs": [
    {
     "data": {
      "text/plain": [
       "[[3, 2, 1], [2, 3, 1], [1, 3, 2], [3, 1, 2], [2, 1, 3], [1, 2, 3]]"
      ]
     },
     "execution_count": 5,
     "metadata": {},
     "output_type": "execute_result"
    }
   ],
   "source": [
    "def permute(nums: List[int]) -> List[List[int]]:\n",
    "    n = len(nums)\n",
    "    res = []\n",
    "\n",
    "    if n == 1:\n",
    "        return [nums[:]]\n",
    "    for i in range(n):\n",
    "        num = nums.pop(0)\n",
    "        perms = permute(nums)\n",
    "\n",
    "        for perm in perms:\n",
    "            perm.append(num)\n",
    "\n",
    "        res.extend(perms)\n",
    "        nums.append(num)\n",
    "\n",
    "    return res\n",
    "\n",
    "nums = [1,2,3]\n",
    "permute(nums)"
   ]
  },
  {
   "cell_type": "code",
   "execution_count": null,
   "metadata": {},
   "outputs": [],
   "source": [
    "# alternative solution using backtracking\n",
    "def permute(nums: List[int]) -> List[List[int]]:\n",
    "\n",
    "    def backtrack(first = 0):\n",
    "        # if all integers are used up\n",
    "        if first == n:  \n",
    "            output.append(nums[:])\n",
    "        for i in range(first, n):\n",
    "            # place i-th integer first \n",
    "            # in the current permutation\n",
    "            nums[first], nums[i] = nums[i], nums[first]\n",
    "            # use next integers to complete the permutations\n",
    "            backtrack(first + 1)\n",
    "            # backtrack\n",
    "            nums[first], nums[i] = nums[i], nums[first]\n",
    "    \n",
    "    n = len(nums)\n",
    "    output = []\n",
    "    backtrack()\n",
    "    return output"
   ]
  }
 ],
 "metadata": {
  "kernelspec": {
   "display_name": "algorithms",
   "language": "python",
   "name": "python3"
  },
  "language_info": {
   "codemirror_mode": {
    "name": "ipython",
    "version": 3
   },
   "file_extension": ".py",
   "mimetype": "text/x-python",
   "name": "python",
   "nbconvert_exporter": "python",
   "pygments_lexer": "ipython3",
   "version": "3.11.2"
  },
  "orig_nbformat": 4
 },
 "nbformat": 4,
 "nbformat_minor": 2
}
