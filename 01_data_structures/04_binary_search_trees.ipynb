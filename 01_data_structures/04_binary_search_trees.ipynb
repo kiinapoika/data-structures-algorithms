{
 "cells": [
  {
   "attachments": {},
   "cell_type": "markdown",
   "metadata": {},
   "source": [
    "# Binary Search Tree"
   ]
  },
  {
   "cell_type": "code",
   "execution_count": 5,
   "metadata": {},
   "outputs": [],
   "source": [
    "# create a new node\n",
    "class Node:\n",
    "    def __init__(self, value):\n",
    "        # assign the value of the node\n",
    "        self.value = value\n",
    "        self.left = None\n",
    "        self.right = None\n",
    "\n",
    "# constructor of a linked list\n",
    "class BinarySearchTree:\n",
    "    def __init__(self):\n",
    "        # the root of the tree does not have any nodes pointing to it\n",
    "        self.root = None\n",
    "\n",
    "    # insert a value to left leaf if the value is smaller than root value, to right leaf if the value is greater than root value\n",
    "    def insert(self, value):\n",
    "        new_node = Node(value)\n",
    "        temp = new_node\n",
    "        if self.root is None:\n",
    "            self.root = new_node\n",
    "            return True\n",
    "        \n",
    "        # point to the root node\n",
    "        temp = self.root\n",
    "        while True:\n",
    "            # stop the loop if there is a duplicated value\n",
    "            if new_node.value == temp.value:\n",
    "                return False\n",
    "\n",
    "            if new_node.value < temp.value:\n",
    "                # if left leaf does not exist, assign the new node to the left leaf\n",
    "                if temp.left is None:\n",
    "                    temp.left = new_node\n",
    "                    return True\n",
    "                # move the pointer from root to the left leaf to restart the loop\n",
    "                temp = temp.left\n",
    "\n",
    "            else:\n",
    "                if temp.right is None:\n",
    "                    temp.right = new_node\n",
    "                    return True\n",
    "                temp = temp.right\n",
    "\n",
    "        \n",
    "    def contains(self, value):\n",
    "\n",
    "        if self.root is None:\n",
    "            return False\n",
    "\n",
    "        temp = self.root\n",
    "\n",
    "        while temp:\n",
    "            if temp.value < value:\n",
    "                temp = temp.right\n",
    "            \n",
    "            elif temp.value > value:\n",
    "                temp = temp.left\n",
    "\n",
    "            else:\n",
    "                return True\n",
    "        \n",
    "        return False\n",
    "\n"
   ]
  },
  {
   "cell_type": "code",
   "execution_count": 6,
   "metadata": {},
   "outputs": [
    {
     "name": "stdout",
     "output_type": "stream",
     "text": [
      "True\n",
      "False\n"
     ]
    }
   ],
   "source": [
    "my_bst = BinarySearchTree()\n",
    "my_bst.insert(2)\n",
    "my_bst.insert(1)\n",
    "my_bst.insert(3)\n",
    "\n",
    "print(my_bst.contains(3))\n",
    "print(my_bst.contains(4))\n",
    "\n"
   ]
  },
  {
   "cell_type": "code",
   "execution_count": null,
   "metadata": {},
   "outputs": [],
   "source": []
  }
 ],
 "metadata": {
  "kernelspec": {
   "display_name": "django_env",
   "language": "python",
   "name": "python3"
  },
  "language_info": {
   "codemirror_mode": {
    "name": "ipython",
    "version": 3
   },
   "file_extension": ".py",
   "mimetype": "text/x-python",
   "name": "python",
   "nbconvert_exporter": "python",
   "pygments_lexer": "ipython3",
   "version": "3.11.2"
  },
  "orig_nbformat": 4
 },
 "nbformat": 4,
 "nbformat_minor": 2
}
